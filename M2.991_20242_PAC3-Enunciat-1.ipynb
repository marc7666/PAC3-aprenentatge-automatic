{
 "cells": [
  {
   "cell_type": "markdown",
   "metadata": {
    "id": "g1q1mnorfHwx"
   },
   "source": [
    "<div style=\"width: 100%; clear: both;\">\n",
    "\n",
    "<div style=\"float: left; width: 50%;\">\n",
    "\n",
    "<img src=\"http://www.uoc.edu/portal/_resources/common/imatges/marca_UOC/UOC_Masterbrand.jpg\" align=\"left\">\n",
    "\n",
    "</div>\n",
    "\n",
    "<div style=\"float: right; width: 50%;\">\n",
    "\n",
    "<p style=\"margin: 0; padding-top: 22px; text-align:right;\">M2.991 · Aprenentatge automàtic · PAC3</p>\n",
    "\n",
    "<p style=\"margin: 0; text-align:right;\">2024-2 · Màster universitari en Ciència de dades (Data science)</p>\n",
    "\n",
    "<p style=\"margin: 0; text-align:right; padding-button: 100px;\">Estudis d'Informàtica, Multimèdia i Telecomunicació</p>\n",
    "\n",
    "</div>\n",
    "\n",
    "</div>\n",
    "\n",
    "<div style=\"width:100%;\">&nbsp;</div>"
   ]
  },
  {
   "cell_type": "markdown",
   "metadata": {
    "id": "rFTsh39afHwz"
   },
   "source": [
    "# PEC 3: Mètodes supervisats\n",
    "\n",
    "En aquesta pràctica veurem diferents mètodes supervisats i mirarem d'optimitzar diferents mètriques. Veurem com els diferents models classifiquen les observacions i amb quins obtenim un rendiment més alt. Després aplicarem tot el que hem après fins ara a un dataset nou simulant un cas pràctic real.\n",
    "\n",
    "1.  [Exploració d'algorismes supervisats](#ej1)\n",
    "\n",
    "    1.1. [Càrrega de dades](#ej1)\n",
    "\n",
    "    1.2. [K veïns més propers (KNN)](#ej12)\n",
    "\n",
    "    1.3. [Màquines de vectors de suport (SVM)](#ej13)\n",
    "\n",
    "    1.4. [Arbres de decisió](#ej14)\n",
    "\n",
    "2.  [Comprensió d'algorismes supervisats](#ej2)\n",
    "\n",
    "3.  [Implementació del cas pràctic](#ej3)\n",
    "\n",
    "    2.1. [Càrrega de dades](#ej31)\n",
    "\n",
    "    2.2. [Anàlisi Exploratòria de Dades](#ej32)\n",
    "\n",
    "    2.3. [Preprocessament de Dades](#ej33)\n",
    "    \n",
    "    2.4. [Modelització](#ej34)\n",
    "\n",
    "<u>Consideracions generals</u>:\n",
    "\n",
    "- La solució plantejada no pot utilitzar mètodes, funcions o paràmetres declarats **_deprecated_** en futures versions, a excepció de la càrrega de dades com s'indica posteriorment.\n",
    "- Aquesta PAC s'ha de realitzar de forma **estrictament individual**. Qualsevol indici de còpia serà penalitzat amb un suspens (D) per a totes les parts implicades i la possible avaluació negativa de l'assignatura de forma íntegra.\n",
    "- Cal que l'estudiant indiqui **totes les fonts** que ha utilitzat per a la realització de la PAC. En cas contrari, es considerarà que l'estudiant ha comès plagi, i serà penalitzat amb un suspens (D) i la possible avaluació negativa de l'assignatura de forma íntegra.\n",
    "\n",
    "<u>Format del lliurament</u>:\n",
    "\n",
    "- Alguns exercicis poden suposar diversos minuts d'execució, per la qual cosa el lliurament s'ha de fer en **format notebook** i en **format html**, on es vegi el codi, els resultats i els comentaris de cada exercici. Es pot exportar el notebook a HTML des del menú File $\\to$ Download as $\\to$ HTML.\n",
    "- Hi ha un tipus de cel·la especial per allotjar text. Aquest tipus de cel·la us serà molt útil per respondre a les diferents preguntes teòriques plantejades al llarg de l'activitat. Per canviar el tipus de cel·la a aquest tipus, al menú: Cell $\\to$ Cell Type $\\to$ Markdown."
   ]
  },
  {
   "cell_type": "markdown",
   "metadata": {
    "id": "DSSB2tHkfHw0"
   },
   "source": [
    "<div class=\"alert alert-block alert-info\">\n",
    "    <strong>Nom i cognoms: Marc Cervera Rosell</strong>\n",
    "</div>"
   ]
  },
  {
   "cell_type": "code",
   "execution_count": 1,
   "metadata": {},
   "outputs": [
    {
     "name": "stdout",
     "output_type": "stream",
     "text": [
      "Requirement already satisfied: kagglehub==0.3.12 in c:\\users\\mcr99\\anaconda3\\envs\\environment_uoc20242pec3\\lib\\site-packages (0.3.12)\n",
      "Requirement already satisfied: packaging in c:\\users\\mcr99\\anaconda3\\envs\\environment_uoc20242pec3\\lib\\site-packages (from kagglehub==0.3.12) (24.2)\n",
      "Requirement already satisfied: pyyaml in c:\\users\\mcr99\\anaconda3\\envs\\environment_uoc20242pec3\\lib\\site-packages (from kagglehub==0.3.12) (6.0.2)\n",
      "Requirement already satisfied: requests in c:\\users\\mcr99\\anaconda3\\envs\\environment_uoc20242pec3\\lib\\site-packages (from kagglehub==0.3.12) (2.32.3)\n",
      "Requirement already satisfied: tqdm in c:\\users\\mcr99\\anaconda3\\envs\\environment_uoc20242pec3\\lib\\site-packages (from kagglehub==0.3.12) (4.66.5)\n",
      "Requirement already satisfied: charset-normalizer<4,>=2 in c:\\users\\mcr99\\anaconda3\\envs\\environment_uoc20242pec3\\lib\\site-packages (from requests->kagglehub==0.3.12) (3.3.2)\n",
      "Requirement already satisfied: idna<4,>=2.5 in c:\\users\\mcr99\\anaconda3\\envs\\environment_uoc20242pec3\\lib\\site-packages (from requests->kagglehub==0.3.12) (3.7)\n",
      "Requirement already satisfied: urllib3<3,>=1.21.1 in c:\\users\\mcr99\\anaconda3\\envs\\environment_uoc20242pec3\\lib\\site-packages (from requests->kagglehub==0.3.12) (2.3.0)\n",
      "Requirement already satisfied: certifi>=2017.4.17 in c:\\users\\mcr99\\anaconda3\\envs\\environment_uoc20242pec3\\lib\\site-packages (from requests->kagglehub==0.3.12) (2025.4.26)\n",
      "Requirement already satisfied: colorama in c:\\users\\mcr99\\anaconda3\\envs\\environment_uoc20242pec3\\lib\\site-packages (from tqdm->kagglehub==0.3.12) (0.4.6)\n"
     ]
    }
   ],
   "source": [
    "!pip install kagglehub==0.3.12"
   ]
  },
  {
   "cell_type": "code",
   "execution_count": 2,
   "metadata": {},
   "outputs": [
    {
     "name": "stdout",
     "output_type": "stream",
     "text": [
      "Requirement already satisfied: umap-learn==0.5.6 in c:\\users\\mcr99\\anaconda3\\envs\\environment_uoc20242pec3\\lib\\site-packages (0.5.6)\n",
      "Requirement already satisfied: numpy>=1.17 in c:\\users\\mcr99\\anaconda3\\envs\\environment_uoc20242pec3\\lib\\site-packages (from umap-learn==0.5.6) (2.1.3)\n",
      "Requirement already satisfied: scipy>=1.3.1 in c:\\users\\mcr99\\anaconda3\\envs\\environment_uoc20242pec3\\lib\\site-packages (from umap-learn==0.5.6) (1.13.1)\n",
      "Requirement already satisfied: scikit-learn>=0.22 in c:\\users\\mcr99\\anaconda3\\envs\\environment_uoc20242pec3\\lib\\site-packages (from umap-learn==0.5.6) (1.5.1)\n",
      "Requirement already satisfied: numba>=0.51.2 in c:\\users\\mcr99\\anaconda3\\envs\\environment_uoc20242pec3\\lib\\site-packages (from umap-learn==0.5.6) (0.61.0)\n",
      "Requirement already satisfied: pynndescent>=0.5 in c:\\users\\mcr99\\anaconda3\\envs\\environment_uoc20242pec3\\lib\\site-packages (from umap-learn==0.5.6) (0.5.13)\n",
      "Requirement already satisfied: tqdm in c:\\users\\mcr99\\anaconda3\\envs\\environment_uoc20242pec3\\lib\\site-packages (from umap-learn==0.5.6) (4.66.5)\n",
      "Requirement already satisfied: llvmlite<0.45,>=0.44.0dev0 in c:\\users\\mcr99\\anaconda3\\envs\\environment_uoc20242pec3\\lib\\site-packages (from numba>=0.51.2->umap-learn==0.5.6) (0.44.0)\n",
      "Requirement already satisfied: joblib>=0.11 in c:\\users\\mcr99\\anaconda3\\envs\\environment_uoc20242pec3\\lib\\site-packages (from pynndescent>=0.5->umap-learn==0.5.6) (1.4.2)\n",
      "Requirement already satisfied: threadpoolctl>=3.1.0 in c:\\users\\mcr99\\anaconda3\\envs\\environment_uoc20242pec3\\lib\\site-packages (from scikit-learn>=0.22->umap-learn==0.5.6) (3.5.0)\n",
      "Requirement already satisfied: colorama in c:\\users\\mcr99\\anaconda3\\envs\\environment_uoc20242pec3\\lib\\site-packages (from tqdm->umap-learn==0.5.6) (0.4.6)\n"
     ]
    }
   ],
   "source": [
    "!pip install umap-learn==0.5.6"
   ]
  },
  {
   "cell_type": "code",
   "execution_count": 3,
   "metadata": {
    "id": "bn0ZMDyKfHw0"
   },
   "outputs": [],
   "source": [
    "import os\n",
    "import tqdm\n",
    "import kagglehub\n",
    "import umap\n",
    "\n",
    "import seaborn as sns\n",
    "import pandas as pd\n",
    "import numpy as np\n",
    "import matplotlib.pyplot as plt\n",
    "\n",
    "from matplotlib.colors import ListedColormap\n",
    "\n",
    "from sklearn import datasets\n",
    "from sklearn import tree\n",
    "from sklearn.svm import SVC\n",
    "from sklearn.tree import DecisionTreeClassifier, DecisionTreeRegressor\n",
    "from sklearn.neighbors import KNeighborsClassifier, KNeighborsRegressor\n",
    "from sklearn.model_selection import GridSearchCV\n",
    "from sklearn.metrics import accuracy_score, confusion_matrix, f1_score\n",
    "from sklearn.preprocessing import StandardScaler\n",
    "from sklearn.model_selection import StratifiedKFold, train_test_split, cross_val_score\n",
    "\n",
    "%matplotlib inline"
   ]
  },
  {
   "cell_type": "markdown",
   "metadata": {
    "id": "EIkGtp_BfHw0"
   },
   "source": [
    "<a id='ej1'></a>\n",
    "# 1. Exploració d'algorismes supervisats (3.75 punts)\n",
    "\n",
    "## 1.1. Càrrega de dades\n",
    "\n",
    "L'enfonsament del Titanic és un dels naufragis més tristament cèlebres de la història. El 15 d'abril de 1912, durant el seu viatge inaugural, el considerat «insubmergible» RMS Titanic es va enfonsar després de xocar amb un iceberg. Malauradament, no hi havia suficients bots salvavides per a tots els ocupants, la qual cosa va provocar la mort de 1.502 dels 2.224 passatgers i tripulants. Tot i que hi va haver una mica de sort en la supervivència, sembla que alguns grups de persones van tenir més probabilitats de sobreviure que d'altres.\n",
    "\n",
    "En aquest exercici treballarem amb el conjunt de dades [Titanic-Dataset](https://www.kaggle.com/datasets/yasserh/titanic-dataset?select=Titanic-Dataset.csv), el qual conté la descripció d'una part dels passatgers i tripulants del Titanic.\n",
    "\n",
    "El codi següent carregarà les dades dels passatgers i en realitzarà una transformació. De cada passatger tenim informació diversa (conjunt X) com l'edat o la categoria en la qual viatjava, així com la variable objectiu (y), que indica si la persona va sobreviure o no al tràgic accident. Podem comprovar que la càrrega ha estat correcta obtenint les dimensions d'aquests dos conjunts."
   ]
  },
  {
   "cell_type": "code",
   "execution_count": 4,
   "metadata": {
    "colab": {
     "base_uri": "https://localhost:8080/",
     "height": 465
    },
    "id": "MPEdyuVLfHw1",
    "outputId": "34a46905-a29c-4263-9161-b2fd1efd6276"
   },
   "outputs": [
    {
     "name": "stdout",
     "output_type": "stream",
     "text": [
      "Vector X Dimensions: (712, 10)\n",
      "Vector y Dimensions: (712,)\n"
     ]
    }
   ],
   "source": [
    "root_path = kagglehub.dataset_download(\"yasserh/titanic-dataset\")\n",
    "dataset_path = os.path.join(root_path, \"Titanic-Dataset.csv\")\n",
    "data = pd.read_csv(dataset_path)\n",
    "\n",
    "data = data.drop(columns=['PassengerId', 'Name', 'Ticket', 'Cabin'])\n",
    "data = data.dropna()\n",
    "\n",
    "n_classes = 2\n",
    "labels = ['No', 'Yes']\n",
    "categorical_columns = ['Sex', 'Embarked']\n",
    "\n",
    "cat_df = pd.get_dummies(data[categorical_columns], dtype=int)\n",
    "data = pd.concat([data, cat_df], axis=1, join=\"inner\")\n",
    "data = data.drop(columns=categorical_columns)\n",
    "\n",
    "X = data.drop(columns=['Survived'])\n",
    "y = data['Survived']\n",
    "\n",
    "print(\"Vector X Dimensions: {}\".format(X.shape))\n",
    "print(\"Vector y Dimensions: {}\".format(y.shape))"
   ]
  },
  {
   "cell_type": "markdown",
   "metadata": {
    "id": "3ETr_YsafrdS"
   },
   "source": [
    "Abans de començar a treballar amb el problema, és important analitzar si el conjunt de dades està desbalancejat. En la gràfica següent podem comprovar que no hi ha una desviació elevada, (60/40) aproximadament."
   ]
  },
  {
   "cell_type": "code",
   "execution_count": 5,
   "metadata": {
    "id": "pf_sKkbTfrdW",
    "outputId": "ffa016f3-5f44-42e9-9d6f-925a460126e8"
   },
   "outputs": [
    {
     "data": {
      "image/png": "[encoded data removed]",
      "text/plain": [
       "<Figure size 640x480 with 1 Axes>"
      ]
     },
     "metadata": {},
     "output_type": "display_data"
    }
   ],
   "source": [
    "sns.countplot(x='Survived', data=data)\n",
    "plt.show()"
   ]
  },
  {
   "cell_type": "markdown",
   "metadata": {
    "id": "iodTMbSNfrds"
   },
   "source": [
    "<div class=\"alert alert-block alert-info\">\n",
    "    <strong>Implementació:</strong>\n",
    "\n",
    "Dividiu el _dataset_ en dos subconjunts, **_train_** (80% de les dades) i **_test_** (20% de les dades). Anomeneu els conjunts com: X_train, X_test, y_train, y_test. Utilitzeu l'opció `random_state = 24`.\n",
    "\n",
    "Podeu utilitzar la implementació `train_test_split` de `sklearn`.\n",
    "\n",
    "</div>"
   ]
  },
  {
   "cell_type": "code",
   "execution_count": 6,
   "metadata": {
    "id": "jR8vOec-frdt"
   },
   "outputs": [],
   "source": [
    "from sklearn.model_selection import train_test_split\n",
    "X_train, X_test, y_train, y_test = train_test_split(\n",
    "    X, y, test_size=0.2, random_state=24 # 0.2 = 20% per a test -> 0.8 = 80% per a train\n",
    ")"
   ]
  },
  {
   "cell_type": "markdown",
   "metadata": {
    "id": "h0f4foHvfrdu"
   },
   "source": [
    "Per poder visualitzar els resultats de cada algorisme supervisat, reduirem el dataset anterior a dues dimensions.\n",
    "\n",
    "**NOTA**: Aquest exercici s'ha plantejat des d'un punt de vista didàctic, per la qual cosa utilitzarem en tot l'exercici el dataset reduït a dues dimensions amb l'objectiu de visualitzar les fronteres de decisió dels models. Aplicar directament reducció de la dimensionalitat no té per què ser la millor tècnica o aproximació per abordar el problema d'aprenentatge supervisat. No obstant això, ens servirà per visualitzar i aprofundir en l'enteniment sobre les fronteres que aprenen els diferents models."
   ]
  },
  {
   "cell_type": "code",
   "execution_count": 7,
   "metadata": {
    "id": "WNO9y_3ScM1s"
   },
   "outputs": [
    {
     "name": "stderr",
     "output_type": "stream",
     "text": [
      "C:\\Users\\mcr99\\anaconda3\\envs\\environment_uoc20242pec3\\Lib\\site-packages\\umap\\umap_.py:1945: UserWarning: n_jobs value 1 overridden to 1 by setting random_state. Use no seed for parallelism.\n",
      "  warn(f\"n_jobs value {self.n_jobs} overridden to 1 by setting random_state. Use no seed for parallelism.\")\n"
     ]
    },
    {
     "data": {
      "image/png": "[encoded data removed]",
      "text/plain": [
       "<Figure size 1000x800 with 1 Axes>"
      ]
     },
     "metadata": {},
     "output_type": "display_data"
    }
   ],
   "source": [
    "scaler = StandardScaler()\n",
    "X_train = scaler.fit_transform(X_train)\n",
    "X_test = scaler.transform(X_test)\n",
    "\n",
    "model = umap.UMAP(n_components=2, random_state=42, n_jobs=-1)\n",
    "model.fit(X_train)\n",
    "X_train_projection = model.transform(X_train)\n",
    "X_test_projection = model.transform(X_test)\n",
    "\n",
    "fig, ax = plt.subplots(1, 1, figsize=(10, 8))\n",
    "for i in range(n_classes):\n",
    "    ax.scatter(X_test_projection[y_test == i,0], X_test_projection[y_test == i,1], s=40, marker='o', label=labels[i])\n",
    "plt.legend()\n",
    "plt.tight_layout()\n",
    "\n",
    "plt.show()"
   ]
  },
  {
   "cell_type": "markdown",
   "metadata": {
    "id": "WRD5PHiifrdv"
   },
   "source": [
    "Al llarg de l'exercici aprendrem a veure gràficament les fronteres de decisió que ens retornen els diferents models. Per fer-ho utilitzarem la funció definida a continuació, que segueix els passos següents:\n",
    "\n",
    "1.  Crear una *meshgrid* amb els valors mínim i màxim de 'x' i 'y'.\n",
    "2.  Predir el classificador amb els valors de la *meshgrid*.\n",
    "3.  Fer un *reshape* de les dades per tenir el format corresponent.\n",
    "\n",
    "Un cop fet això, ja podem fer el gràfic de les fronteres de decisió i afegir els punts reals. Així veurem les àrees que el model considera que són d'una classe i les que considera que són d'una altra. En posar a sobre els punts veurem si els classifica correctament a l'àrea que els correspon."
   ]
  },
  {
   "cell_type": "code",
   "execution_count": 8,
   "metadata": {
    "id": "pGT9YM-EcPzE"
   },
   "outputs": [],
   "source": [
    "# Define the function that will visualize the decision boundary\n",
    "def plot_decision_boundaries(model, X_test_projection, y_test):\n",
    "\n",
    "    # Create the meshgrid with the minimum and maximum values of the x and y axes\n",
    "    x_min, x_max = X_test_projection[:, 0].min() - 1, X_test_projection[:, 0].max() + 1\n",
    "    y_min, y_max = X_test_projection[:, 1].min() - 1, X_test_projection[:, 1].max() + 1\n",
    "\n",
    "    xx, yy = np.meshgrid(np.arange(x_min, x_max, 0.05),\n",
    "                         np.arange(y_min, y_max, 0.05))\n",
    "\n",
    "    # Prediction by using all values of the meshgrid\n",
    "    Z = model.predict(np.c_[xx.ravel(), yy.ravel()])\n",
    "\n",
    "    # Define the colors (one for each class)\n",
    "    cmap_light = ListedColormap(['gainsboro','lightgreen','peachpuff','lightcyan', 'pink'])\n",
    "    cmap_bold = ['g','sandybrown','c','palevioletred']\n",
    "\n",
    "    # Draw the borders\n",
    "    Z = Z.reshape(xx.shape)\n",
    "    plt.figure(figsize=(20,10))\n",
    "    plt.pcolormesh(xx, yy, Z, cmap=cmap_light)\n",
    "\n",
    "    # Draw the points\n",
    "    for i in range(n_classes):\n",
    "        plt.scatter(X_test_projection[y_test == i,0], X_test_projection[y_test == i,1],\n",
    "                    s=40, marker='o', label=labels[i], c=cmap_bold[i])\n",
    "    plt.legend()\n",
    "    plt.xlim(xx.min(), xx.max())\n",
    "    plt.ylim(yy.min(), yy.max())\n",
    "    plt.show()"
   ]
  },
  {
   "cell_type": "markdown",
   "metadata": {},
   "source": [
    "**Material extern consultat:**\n",
    "\n",
    "[scikit-learn.(nd)._train_test_split_.scikit-learn](https://scikit-learn.org/stable/modules/generated/sklearn.model_selection.train_test_split.html)"
   ]
  },
  {
   "cell_type": "markdown",
   "metadata": {
    "id": "gjEyHwXFfHw4"
   },
   "source": [
    "<a id='ej12'></a>\n",
    "## 1.2. KNN (1.25 punts)\n",
    "\n",
    "En aquest punt, entendràs el funcionament de l'algorisme KNN (K-Nearest-Neighbor), que es basa en la proximitat dels punts de dades en un espai de característiques. Analitzaràs els seus avantatges i desavantatges, i comprendràs com els paràmetres que el componen influeixen en el seu comportament.\n",
    "\n",
    "KNN és un algorisme de tipus supervisat basat en instància. Això significa:\n",
    "\n",
    "- Supervisat: El teu conjunt de dades d'entrenament està etiquetat amb la classe o el resultat esperat.\n",
    "- Basat en instància (*Lazy Learning*): L'algorisme no aprèn explícitament un model, com en la Regressió Logística o els arbres de decisió. En canvi, memoritza les instàncies d'entrenament i les utilitza com a \"coneixement\" en la fase de predicció.\n",
    "\n",
    "Per entendre com funciona KNN, segueix aquests passos:\n",
    "\n",
    "1.  Calcula la distància entre l'ítem a classificar i els altres ítems del dataset d'entrenament.\n",
    "2.  Selecciona els \"k\" elements més propers, és a dir, aquells amb la distància més petita, segons el tipus de distància que utilitzis (euclidiana, cosinus, Manhattan, etc.).\n",
    "3.  Realitza una \"votació de majoria\" entre els k punts seleccionats: la classe que predomini en aquests punts decidirà la classificació final de l'ítem analitzat."
   ]
  },
  {
   "cell_type": "markdown",
   "metadata": {
    "id": "TADnYVTPfHw4"
   },
   "source": [
    "<div class=\"alert alert-block alert-info\">\n",
    "<strong>Implementació:</strong>\n",
    "\n",
    "Realitza els passos següents amb el dataset d'entrenament (_train_):\n",
    "\n",
    "1.  Entrena un classificador KNN amb l'hiperparàmetre `n_neighbors=2` utilitzant el classificador `KNeighborsClassifier` de `sklearn`.\n",
    "2.  Calcula l'_accuracy_ (precisió) del model tant en les dades de _train_ com de _test_.\n",
    "3.  Calcula la matriu de confusió utilitzant les dades de _test_.\n",
    "4.  Representa gràficament la frontera de decisió amb les dades de _test_.\n",
    "\n",
    "Si en entrenar el classificador apareix un avís (*warning*) i vols ignorar-lo, executa el codi següent abans de l'entrenament:\n",
    "\n",
    "`import warnings`\n",
    "\n",
    "`warnings.filterwarnings('ignore', message='^.*will change.*$', category=FutureWarning)`\n",
    "\n",
    "\n",
    "Això et permetrà avaluar l'efectivitat del model KNN amb `n_neighbors=2` en el teu conjunt de dades, i entendre com es comporta en termes de classificació i separació de classes.\n",
    "    \n",
    "    \n",
    "</div>"
   ]
  },
  {
   "cell_type": "code",
   "execution_count": 9,
   "metadata": {
    "id": "mQ50-Q15fHw4"
   },
   "outputs": [
    {
     "name": "stdout",
     "output_type": "stream",
     "text": [
      "Accuracy dades entrenament: 0.8611599297012302\n",
      "\n",
      "Accuracy dades testing: 0.7412587412587412\n"
     ]
    }
   ],
   "source": [
    "import warnings\n",
    "from sklearn.metrics import accuracy_score\n",
    "warnings.filterwarnings('ignore', message='^.*will change.*$', category=FutureWarning)\n",
    "\n",
    "# Step 1: Crear i entrenar el model KNN\n",
    "knn_model = KNeighborsClassifier(n_neighbors=2)\n",
    "knn_model.fit(X_train_projection, y_train)\n",
    "\n",
    "# Step 2: Accuracy del model\n",
    "predictions_data_training = knn_model.predict(X_train_projection) # Prediccions amb dades d'entrenament\n",
    "predictions_data_testing = knn_model.predict(X_test_projection) # Predeiccions amb dades de testing\n",
    "training_accuracy = accuracy_score(y_train, predictions_data_training)\n",
    "testing_accuracy = accuracy_score(y_test, predictions_data_testing)\n",
    "print(f\"Accuracy dades entrenament: {training_accuracy}\\n\")\n",
    "print(f\"Accuracy dades testing: {testing_accuracy}\")"
   ]
  },
  {
   "cell_type": "markdown",
   "metadata": {},
   "source": [
    "S'observa una alta _accuracy_ per les dades d'entrenament, però cal tenir en compte que el _dataset_ amb el qual s'està treballant no és molt gran, el fet de tenir aquesta alta _accuracy_ es pot deure a _overfitting_. El fet que el valor de k sigui baix en aquest _dataset_ fa que el model knn sigui més sensible als valors atípics.\n",
    "\n",
    "Per a les dades de test s'observa una _accuracy_ del 74%. Es pot observar una alta diferència de la mètrica entre les dades d'entrenament i les dades de _testing_ (més d'un 10%). Aquesta alta diferència pot indicar que el model pot \"haver-se après\" les dades vistes en l'entrenament i no pot fer prediccions del tot correctes amb dades que no ha vist mai, tot i que no es segur del tot. A més per experiències tant acadèmiques com laborals personals del passat es considera que un 74% de precisió en les dades de _test_ és una puntuació molt baixa. En totes les experiències sempre s'ha fixat el límit de _accuracy_ al 70%. És a dir, tota precisió per sota del 70% sempre ha estat indicador de la necessitat de tornar a entrenar el model."
   ]
  },
  {
   "cell_type": "code",
   "execution_count": 10,
   "metadata": {},
   "outputs": [
    {
     "data": {
      "image/png": "[encoded data removed]",
      "text/plain": [
       "<Figure size 640x480 with 2 Axes>"
      ]
     },
     "metadata": {},
     "output_type": "display_data"
    }
   ],
   "source": [
    "from sklearn.metrics import confusion_matrix, ConfusionMatrixDisplay\n",
    "import matplotlib.pyplot as plt\n",
    "# Step 3: Matriu de confusio\n",
    "conf_mat = confusion_matrix(y_test, predictions_data_testing)\n",
    "conf_mat_display = ConfusionMatrixDisplay(confusion_matrix=conf_mat, display_labels=labels) # Per veure la matriu de confusió bonica\n",
    "conf_mat_display.plot()\n",
    "plt.show()"
   ]
  },
  {
   "cell_type": "markdown",
   "metadata": {},
   "source": [
    "Segons la matriu, el model és millor predient quan la gent no va sobreviure, es demostra calculant el _True positive rate_ i el _True negative_rate_:\n",
    "\n",
    "_True positive rate_ -> Quan realment és \"sí\", quants cops el model prediu \"sí\"?\n",
    "\n",
    "_True negative_rate_ -> Quan realment és \"no\", quants cops el model prediu \"no\"?\n",
    "\n",
    "True positive rate = True positive / actual yes = 31 / (29 + 31) = 51.6%\n",
    "\n",
    "True negative rate = True negative / actual no = 75 / (75 + 8) = 90.4%"
   ]
  },
  {
   "cell_type": "code",
   "execution_count": 11,
   "metadata": {},
   "outputs": [
    {
     "name": "stderr",
     "output_type": "stream",
     "text": [
      "C:\\Users\\mcr99\\anaconda3\\envs\\environment_uoc20242pec3\\Lib\\site-packages\\IPython\\core\\pylabtools.py:170: UserWarning: Creating legend with loc=\"best\" can be slow with large amounts of data.\n",
      "  fig.canvas.print_figure(bytes_io, **kw)\n"
     ]
    },
    {
     "data": {
      "image/png": "[encoded data removed]",
      "text/plain": [
       "<Figure size 2000x1000 with 1 Axes>"
      ]
     },
     "metadata": {},
     "output_type": "display_data"
    }
   ],
   "source": [
    "# Step 4: Representar la frontera de decisió de les dades de test\n",
    "plot_decision_boundaries(knn_model, X_test_projection, y_test)"
   ]
  },
  {
   "cell_type": "markdown",
   "metadata": {},
   "source": [
    "Observant el gràfic, es pot concloure que les zones rosa són les corresponents a \"Yes\" i les zones de color gris són les corresponents a la classe \"No\".\n",
    "\n",
    "També es confirma el que s'ha vist anteriorment a la matriu de confusió. El model és millor predient quan la gent no va sobreviure."
   ]
  },
  {
   "cell_type": "markdown",
   "metadata": {},
   "source": [
    "**Material extern consultat:**\n",
    "\n",
    "[W3Schools.(nd)._Machine Learning - Confusion Matrix_.W3Schools](https://www.w3schools.com/python/python_ml_confusion_matrix.asp)\n",
    "\n",
    "[scikit-learn.(nd)._KNeighborsClassifier_.scikit-learn](https://scikit-learn.org/stable/modules/generated/sklearn.neighbors.KNeighborsClassifier.html) -> Les funcions _fit()_ y _predict()_ queden incloses en aquest enllaç.\n",
    "\n",
    "[scikit-learn.(nd)._accuracy_score_.scikit-learn](https://scikit-learn.org/stable/modules/generated/sklearn.metrics.accuracy_score.html)\n",
    "\n",
    "[scikit-learn.(nd)._confusion_matrix_.scikit-learn](https://scikit-learn.org/stable/modules/generated/sklearn.metrics.confusion_matrix.html)\n",
    "\n",
    "[data school.(25-03-2014)._Simple guide to confusion matrix terminology_. data school](https://www.dataschool.io/simple-guide-to-confusion-matrix-terminology/)\n",
    "\n",
    "[Iker Landajuela.(2024)._Elección del número de vecinos k_.IA y Big Data](https://iabigdata-soka-4ae9e223e32444ac5ae3d78afbd55fd9aa6da1c19d9679bf.gitlab.io/post/2024-09-22-pia_knn_k_select/)"
   ]
  },
  {
   "cell_type": "markdown",
   "metadata": {
    "id": "tF_2dKwAfHw8"
   },
   "source": [
    "En el model que has entrenat, has fixat el paràmetre `n_neighbors` de forma arbitrària. No obstant això, és possible que amb un altre valor obtinguis una millor predicció. Per trobar el valor òptim dels paràmetres d'un model (*hyperparameter tunning*), sovint s'utilitza una cerca de reixeta (*grid search*). Això implica entrenar un model per a cada combinació possible d'hiperparàmetres i avaluar-lo mitjançant validació creuada (*cross validation*) amb 5 particions estratificades. Després, seleccionaràs la combinació d'hiperparàmetres que hagi obtingut els millors resultats.\n",
    "\n",
    "En aquest cas, et centraràs a optimitzar un sol hiperparàmetre:\n",
    "\n",
    "-   𝑘: el nombre de veïns que es consideren per classificar un nou exemple. Has de provar amb tots els valors entre 1 i 20.\n",
    "\n",
    "Realitza aquest procés per identificar el nombre òptim de veïns, la qual cosa et permetrà millorar la precisió de les teves prediccions amb el model KNN."
   ]
  },
  {
   "cell_type": "markdown",
   "metadata": {
    "id": "2UDe0lBofHw8"
   },
   "source": [
    "<div class=\"alert alert-block alert-info\">\n",
    "    <strong>Implementació:</strong>\n",
    "\n",
    "Per calcular el valor òptim de l'hiperparàmetre _k_ (`n_neighbors`), has de realitzar una cerca de reixeta amb validació creuada. Aquest procés t'ajudarà a trobar el valor òptim de _k_. Per a cada valor, calcula'n la mitjana i la desviació estàndard. Després, implementa un *lineplot* per visualitzar la precisió segons els diferents valors de l'hiperparàmetre.\n",
    "\n",
    "Utilitza el mòdul `GridSearchCV` de `sklearn` per calcular el millor hiperparàmetre. Per a la visualització del *lineplot*, empra la llibreria `Seaborn`.\n",
    "\n",
    "Aquests passos et permetran identificar de manera efectiva i visual el valor de _k_ que maximitza la precisió del teu model KNN.\n",
    "</div>"
   ]
  },
  {
   "cell_type": "code",
   "execution_count": 12,
   "metadata": {
    "id": "qb8GHGHOfHw8"
   },
   "outputs": [
    {
     "name": "stderr",
     "output_type": "stream",
     "text": [
      "C:\\Users\\mcr99\\anaconda3\\envs\\environment_uoc20242pec3\\Lib\\site-packages\\numpy\\ma\\core.py:2881: RuntimeWarning: invalid value encountered in cast\n",
      "  _data = np.array(data, dtype=dtype, copy=copy,\n"
     ]
    },
    {
     "data": {
      "text/html": [
       "<style>#sk-container-id-1 {\n",
       "  /* Definition of color scheme common for light and dark mode */\n",
       "  --sklearn-color-text: black;\n",
       "  --sklearn-color-line: gray;\n",
       "  /* Definition of color scheme for unfitted estimators */\n",
       "  --sklearn-color-unfitted-level-0: #fff5e6;\n",
       "  --sklearn-color-unfitted-level-1: #f6e4d2;\n",
       "  --sklearn-color-unfitted-level-2: #ffe0b3;\n",
       "  --sklearn-color-unfitted-level-3: chocolate;\n",
       "  /* Definition of color scheme for fitted estimators */\n",
       "  --sklearn-color-fitted-level-0: #f0f8ff;\n",
       "  --sklearn-color-fitted-level-1: #d4ebff;\n",
       "  --sklearn-color-fitted-level-2: #b3dbfd;\n",
       "  --sklearn-color-fitted-level-3: cornflowerblue;\n",
       "\n",
       "  /* Specific color for light theme */\n",
       "  --sklearn-color-text-on-default-background: var(--sg-text-color, var(--theme-code-foreground, var(--jp-content-font-color1, black)));\n",
       "  --sklearn-color-background: var(--sg-background-color, var(--theme-background, var(--jp-layout-color0, white)));\n",
       "  --sklearn-color-border-box: var(--sg-text-color, var(--theme-code-foreground, var(--jp-content-font-color1, black)));\n",
       "  --sklearn-color-icon: #696969;\n",
       "\n",
       "  @media (prefers-color-scheme: dark) {\n",
       "    /* Redefinition of color scheme for dark theme */\n",
       "    --sklearn-color-text-on-default-background: var(--sg-text-color, var(--theme-code-foreground, var(--jp-content-font-color1, white)));\n",
       "    --sklearn-color-background: var(--sg-background-color, var(--theme-background, var(--jp-layout-color0, #111)));\n",
       "    --sklearn-color-border-box: var(--sg-text-color, var(--theme-code-foreground, var(--jp-content-font-color1, white)));\n",
       "    --sklearn-color-icon: #878787;\n",
       "  }\n",
       "}\n",
       "\n",
       "#sk-container-id-1 {\n",
       "  color: var(--sklearn-color-text);\n",
       "}\n",
       "\n",
       "#sk-container-id-1 pre {\n",
       "  padding: 0;\n",
       "}\n",
       "\n",
       "#sk-container-id-1 input.sk-hidden--visually {\n",
       "  border: 0;\n",
       "  clip: rect(1px 1px 1px 1px);\n",
       "  clip: rect(1px, 1px, 1px, 1px);\n",
       "  height: 1px;\n",
       "  margin: -1px;\n",
       "  overflow: hidden;\n",
       "  padding: 0;\n",
       "  position: absolute;\n",
       "  width: 1px;\n",
       "}\n",
       "\n",
       "#sk-container-id-1 div.sk-dashed-wrapped {\n",
       "  border: 1px dashed var(--sklearn-color-line);\n",
       "  margin: 0 0.4em 0.5em 0.4em;\n",
       "  box-sizing: border-box;\n",
       "  padding-bottom: 0.4em;\n",
       "  background-color: var(--sklearn-color-background);\n",
       "}\n",
       "\n",
       "#sk-container-id-1 div.sk-container {\n",
       "  /* jupyter's `normalize.less` sets `[hidden] { display: none; }`\n",
       "     but bootstrap.min.css set `[hidden] { display: none !important; }`\n",
       "     so we also need the `!important` here to be able to override the\n",
       "     default hidden behavior on the sphinx rendered scikit-learn.org.\n",
       "     See: https://github.com/scikit-learn/scikit-learn/issues/21755 */\n",
       "  display: inline-block !important;\n",
       "  position: relative;\n",
       "}\n",
       "\n",
       "#sk-container-id-1 div.sk-text-repr-fallback {\n",
       "  display: none;\n",
       "}\n",
       "\n",
       "div.sk-parallel-item,\n",
       "div.sk-serial,\n",
       "div.sk-item {\n",
       "  /* draw centered vertical line to link estimators */\n",
       "  background-image: linear-gradient(var(--sklearn-color-text-on-default-background), var(--sklearn-color-text-on-default-background));\n",
       "  background-size: 2px 100%;\n",
       "  background-repeat: no-repeat;\n",
       "  background-position: center center;\n",
       "}\n",
       "\n",
       "/* Parallel-specific style estimator block */\n",
       "\n",
       "#sk-container-id-1 div.sk-parallel-item::after {\n",
       "  content: \"\";\n",
       "  width: 100%;\n",
       "  border-bottom: 2px solid var(--sklearn-color-text-on-default-background);\n",
       "  flex-grow: 1;\n",
       "}\n",
       "\n",
       "#sk-container-id-1 div.sk-parallel {\n",
       "  display: flex;\n",
       "  align-items: stretch;\n",
       "  justify-content: center;\n",
       "  background-color: var(--sklearn-color-background);\n",
       "  position: relative;\n",
       "}\n",
       "\n",
       "#sk-container-id-1 div.sk-parallel-item {\n",
       "  display: flex;\n",
       "  flex-direction: column;\n",
       "}\n",
       "\n",
       "#sk-container-id-1 div.sk-parallel-item:first-child::after {\n",
       "  align-self: flex-end;\n",
       "  width: 50%;\n",
       "}\n",
       "\n",
       "#sk-container-id-1 div.sk-parallel-item:last-child::after {\n",
       "  align-self: flex-start;\n",
       "  width: 50%;\n",
       "}\n",
       "\n",
       "#sk-container-id-1 div.sk-parallel-item:only-child::after {\n",
       "  width: 0;\n",
       "}\n",
       "\n",
       "/* Serial-specific style estimator block */\n",
       "\n",
       "#sk-container-id-1 div.sk-serial {\n",
       "  display: flex;\n",
       "  flex-direction: column;\n",
       "  align-items: center;\n",
       "  background-color: var(--sklearn-color-background);\n",
       "  padding-right: 1em;\n",
       "  padding-left: 1em;\n",
       "}\n",
       "\n",
       "\n",
       "/* Toggleable style: style used for estimator/Pipeline/ColumnTransformer box that is\n",
       "clickable and can be expanded/collapsed.\n",
       "- Pipeline and ColumnTransformer use this feature and define the default style\n",
       "- Estimators will overwrite some part of the style using the `sk-estimator` class\n",
       "*/\n",
       "\n",
       "/* Pipeline and ColumnTransformer style (default) */\n",
       "\n",
       "#sk-container-id-1 div.sk-toggleable {\n",
       "  /* Default theme specific background. It is overwritten whether we have a\n",
       "  specific estimator or a Pipeline/ColumnTransformer */\n",
       "  background-color: var(--sklearn-color-background);\n",
       "}\n",
       "\n",
       "/* Toggleable label */\n",
       "#sk-container-id-1 label.sk-toggleable__label {\n",
       "  cursor: pointer;\n",
       "  display: block;\n",
       "  width: 100%;\n",
       "  margin-bottom: 0;\n",
       "  padding: 0.5em;\n",
       "  box-sizing: border-box;\n",
       "  text-align: center;\n",
       "}\n",
       "\n",
       "#sk-container-id-1 label.sk-toggleable__label-arrow:before {\n",
       "  /* Arrow on the left of the label */\n",
       "  content: \"▸\";\n",
       "  float: left;\n",
       "  margin-right: 0.25em;\n",
       "  color: var(--sklearn-color-icon);\n",
       "}\n",
       "\n",
       "#sk-container-id-1 label.sk-toggleable__label-arrow:hover:before {\n",
       "  color: var(--sklearn-color-text);\n",
       "}\n",
       "\n",
       "/* Toggleable content - dropdown */\n",
       "\n",
       "#sk-container-id-1 div.sk-toggleable__content {\n",
       "  max-height: 0;\n",
       "  max-width: 0;\n",
       "  overflow: hidden;\n",
       "  text-align: left;\n",
       "  /* unfitted */\n",
       "  background-color: var(--sklearn-color-unfitted-level-0);\n",
       "}\n",
       "\n",
       "#sk-container-id-1 div.sk-toggleable__content.fitted {\n",
       "  /* fitted */\n",
       "  background-color: var(--sklearn-color-fitted-level-0);\n",
       "}\n",
       "\n",
       "#sk-container-id-1 div.sk-toggleable__content pre {\n",
       "  margin: 0.2em;\n",
       "  border-radius: 0.25em;\n",
       "  color: var(--sklearn-color-text);\n",
       "  /* unfitted */\n",
       "  background-color: var(--sklearn-color-unfitted-level-0);\n",
       "}\n",
       "\n",
       "#sk-container-id-1 div.sk-toggleable__content.fitted pre {\n",
       "  /* unfitted */\n",
       "  background-color: var(--sklearn-color-fitted-level-0);\n",
       "}\n",
       "\n",
       "#sk-container-id-1 input.sk-toggleable__control:checked~div.sk-toggleable__content {\n",
       "  /* Expand drop-down */\n",
       "  max-height: 200px;\n",
       "  max-width: 100%;\n",
       "  overflow: auto;\n",
       "}\n",
       "\n",
       "#sk-container-id-1 input.sk-toggleable__control:checked~label.sk-toggleable__label-arrow:before {\n",
       "  content: \"▾\";\n",
       "}\n",
       "\n",
       "/* Pipeline/ColumnTransformer-specific style */\n",
       "\n",
       "#sk-container-id-1 div.sk-label input.sk-toggleable__control:checked~label.sk-toggleable__label {\n",
       "  color: var(--sklearn-color-text);\n",
       "  background-color: var(--sklearn-color-unfitted-level-2);\n",
       "}\n",
       "\n",
       "#sk-container-id-1 div.sk-label.fitted input.sk-toggleable__control:checked~label.sk-toggleable__label {\n",
       "  background-color: var(--sklearn-color-fitted-level-2);\n",
       "}\n",
       "\n",
       "/* Estimator-specific style */\n",
       "\n",
       "/* Colorize estimator box */\n",
       "#sk-container-id-1 div.sk-estimator input.sk-toggleable__control:checked~label.sk-toggleable__label {\n",
       "  /* unfitted */\n",
       "  background-color: var(--sklearn-color-unfitted-level-2);\n",
       "}\n",
       "\n",
       "#sk-container-id-1 div.sk-estimator.fitted input.sk-toggleable__control:checked~label.sk-toggleable__label {\n",
       "  /* fitted */\n",
       "  background-color: var(--sklearn-color-fitted-level-2);\n",
       "}\n",
       "\n",
       "#sk-container-id-1 div.sk-label label.sk-toggleable__label,\n",
       "#sk-container-id-1 div.sk-label label {\n",
       "  /* The background is the default theme color */\n",
       "  color: var(--sklearn-color-text-on-default-background);\n",
       "}\n",
       "\n",
       "/* On hover, darken the color of the background */\n",
       "#sk-container-id-1 div.sk-label:hover label.sk-toggleable__label {\n",
       "  color: var(--sklearn-color-text);\n",
       "  background-color: var(--sklearn-color-unfitted-level-2);\n",
       "}\n",
       "\n",
       "/* Label box, darken color on hover, fitted */\n",
       "#sk-container-id-1 div.sk-label.fitted:hover label.sk-toggleable__label.fitted {\n",
       "  color: var(--sklearn-color-text);\n",
       "  background-color: var(--sklearn-color-fitted-level-2);\n",
       "}\n",
       "\n",
       "/* Estimator label */\n",
       "\n",
       "#sk-container-id-1 div.sk-label label {\n",
       "  font-family: monospace;\n",
       "  font-weight: bold;\n",
       "  display: inline-block;\n",
       "  line-height: 1.2em;\n",
       "}\n",
       "\n",
       "#sk-container-id-1 div.sk-label-container {\n",
       "  text-align: center;\n",
       "}\n",
       "\n",
       "/* Estimator-specific */\n",
       "#sk-container-id-1 div.sk-estimator {\n",
       "  font-family: monospace;\n",
       "  border: 1px dotted var(--sklearn-color-border-box);\n",
       "  border-radius: 0.25em;\n",
       "  box-sizing: border-box;\n",
       "  margin-bottom: 0.5em;\n",
       "  /* unfitted */\n",
       "  background-color: var(--sklearn-color-unfitted-level-0);\n",
       "}\n",
       "\n",
       "#sk-container-id-1 div.sk-estimator.fitted {\n",
       "  /* fitted */\n",
       "  background-color: var(--sklearn-color-fitted-level-0);\n",
       "}\n",
       "\n",
       "/* on hover */\n",
       "#sk-container-id-1 div.sk-estimator:hover {\n",
       "  /* unfitted */\n",
       "  background-color: var(--sklearn-color-unfitted-level-2);\n",
       "}\n",
       "\n",
       "#sk-container-id-1 div.sk-estimator.fitted:hover {\n",
       "  /* fitted */\n",
       "  background-color: var(--sklearn-color-fitted-level-2);\n",
       "}\n",
       "\n",
       "/* Specification for estimator info (e.g. \"i\" and \"?\") */\n",
       "\n",
       "/* Common style for \"i\" and \"?\" */\n",
       "\n",
       ".sk-estimator-doc-link,\n",
       "a:link.sk-estimator-doc-link,\n",
       "a:visited.sk-estimator-doc-link {\n",
       "  float: right;\n",
       "  font-size: smaller;\n",
       "  line-height: 1em;\n",
       "  font-family: monospace;\n",
       "  background-color: var(--sklearn-color-background);\n",
       "  border-radius: 1em;\n",
       "  height: 1em;\n",
       "  width: 1em;\n",
       "  text-decoration: none !important;\n",
       "  margin-left: 1ex;\n",
       "  /* unfitted */\n",
       "  border: var(--sklearn-color-unfitted-level-1) 1pt solid;\n",
       "  color: var(--sklearn-color-unfitted-level-1);\n",
       "}\n",
       "\n",
       ".sk-estimator-doc-link.fitted,\n",
       "a:link.sk-estimator-doc-link.fitted,\n",
       "a:visited.sk-estimator-doc-link.fitted {\n",
       "  /* fitted */\n",
       "  border: var(--sklearn-color-fitted-level-1) 1pt solid;\n",
       "  color: var(--sklearn-color-fitted-level-1);\n",
       "}\n",
       "\n",
       "/* On hover */\n",
       "div.sk-estimator:hover .sk-estimator-doc-link:hover,\n",
       ".sk-estimator-doc-link:hover,\n",
       "div.sk-label-container:hover .sk-estimator-doc-link:hover,\n",
       ".sk-estimator-doc-link:hover {\n",
       "  /* unfitted */\n",
       "  background-color: var(--sklearn-color-unfitted-level-3);\n",
       "  color: var(--sklearn-color-background);\n",
       "  text-decoration: none;\n",
       "}\n",
       "\n",
       "div.sk-estimator.fitted:hover .sk-estimator-doc-link.fitted:hover,\n",
       ".sk-estimator-doc-link.fitted:hover,\n",
       "div.sk-label-container:hover .sk-estimator-doc-link.fitted:hover,\n",
       ".sk-estimator-doc-link.fitted:hover {\n",
       "  /* fitted */\n",
       "  background-color: var(--sklearn-color-fitted-level-3);\n",
       "  color: var(--sklearn-color-background);\n",
       "  text-decoration: none;\n",
       "}\n",
       "\n",
       "/* Span, style for the box shown on hovering the info icon */\n",
       ".sk-estimator-doc-link span {\n",
       "  display: none;\n",
       "  z-index: 9999;\n",
       "  position: relative;\n",
       "  font-weight: normal;\n",
       "  right: .2ex;\n",
       "  padding: .5ex;\n",
       "  margin: .5ex;\n",
       "  width: min-content;\n",
       "  min-width: 20ex;\n",
       "  max-width: 50ex;\n",
       "  color: var(--sklearn-color-text);\n",
       "  box-shadow: 2pt 2pt 4pt #999;\n",
       "  /* unfitted */\n",
       "  background: var(--sklearn-color-unfitted-level-0);\n",
       "  border: .5pt solid var(--sklearn-color-unfitted-level-3);\n",
       "}\n",
       "\n",
       ".sk-estimator-doc-link.fitted span {\n",
       "  /* fitted */\n",
       "  background: var(--sklearn-color-fitted-level-0);\n",
       "  border: var(--sklearn-color-fitted-level-3);\n",
       "}\n",
       "\n",
       ".sk-estimator-doc-link:hover span {\n",
       "  display: block;\n",
       "}\n",
       "\n",
       "/* \"?\"-specific style due to the `<a>` HTML tag */\n",
       "\n",
       "#sk-container-id-1 a.estimator_doc_link {\n",
       "  float: right;\n",
       "  font-size: 1rem;\n",
       "  line-height: 1em;\n",
       "  font-family: monospace;\n",
       "  background-color: var(--sklearn-color-background);\n",
       "  border-radius: 1rem;\n",
       "  height: 1rem;\n",
       "  width: 1rem;\n",
       "  text-decoration: none;\n",
       "  /* unfitted */\n",
       "  color: var(--sklearn-color-unfitted-level-1);\n",
       "  border: var(--sklearn-color-unfitted-level-1) 1pt solid;\n",
       "}\n",
       "\n",
       "#sk-container-id-1 a.estimator_doc_link.fitted {\n",
       "  /* fitted */\n",
       "  border: var(--sklearn-color-fitted-level-1) 1pt solid;\n",
       "  color: var(--sklearn-color-fitted-level-1);\n",
       "}\n",
       "\n",
       "/* On hover */\n",
       "#sk-container-id-1 a.estimator_doc_link:hover {\n",
       "  /* unfitted */\n",
       "  background-color: var(--sklearn-color-unfitted-level-3);\n",
       "  color: var(--sklearn-color-background);\n",
       "  text-decoration: none;\n",
       "}\n",
       "\n",
       "#sk-container-id-1 a.estimator_doc_link.fitted:hover {\n",
       "  /* fitted */\n",
       "  background-color: var(--sklearn-color-fitted-level-3);\n",
       "}\n",
       "</style><div id=\"sk-container-id-1\" class=\"sk-top-container\"><div class=\"sk-text-repr-fallback\"><pre>GridSearchCV(cv=5, estimator=KNeighborsClassifier(),\n",
       "             param_grid={&#x27;n_neighbors&#x27;: [1, 2, 3, 4, 5, 6, 7, 8, 9, 10, 11, 12,\n",
       "                                         13, 14, 15, 16, 17, 18, 19, 20]},\n",
       "             return_train_score=True, scoring=&#x27;accuracy&#x27;)</pre><b>In a Jupyter environment, please rerun this cell to show the HTML representation or trust the notebook. <br />On GitHub, the HTML representation is unable to render, please try loading this page with nbviewer.org.</b></div><div class=\"sk-container\" hidden><div class=\"sk-item sk-dashed-wrapped\"><div class=\"sk-label-container\"><div class=\"sk-label fitted sk-toggleable\"><input class=\"sk-toggleable__control sk-hidden--visually\" id=\"sk-estimator-id-1\" type=\"checkbox\" ><label for=\"sk-estimator-id-1\" class=\"sk-toggleable__label fitted sk-toggleable__label-arrow fitted\">&nbsp;&nbsp;GridSearchCV<a class=\"sk-estimator-doc-link fitted\" rel=\"noreferrer\" target=\"_blank\" href=\"https://scikit-learn.org/1.5/modules/generated/sklearn.model_selection.GridSearchCV.html\">?<span>Documentation for GridSearchCV</span></a><span class=\"sk-estimator-doc-link fitted\">i<span>Fitted</span></span></label><div class=\"sk-toggleable__content fitted\"><pre>GridSearchCV(cv=5, estimator=KNeighborsClassifier(),\n",
       "             param_grid={&#x27;n_neighbors&#x27;: [1, 2, 3, 4, 5, 6, 7, 8, 9, 10, 11, 12,\n",
       "                                         13, 14, 15, 16, 17, 18, 19, 20]},\n",
       "             return_train_score=True, scoring=&#x27;accuracy&#x27;)</pre></div> </div></div><div class=\"sk-parallel\"><div class=\"sk-parallel-item\"><div class=\"sk-item\"><div class=\"sk-label-container\"><div class=\"sk-label fitted sk-toggleable\"><input class=\"sk-toggleable__control sk-hidden--visually\" id=\"sk-estimator-id-2\" type=\"checkbox\" ><label for=\"sk-estimator-id-2\" class=\"sk-toggleable__label fitted sk-toggleable__label-arrow fitted\">best_estimator_: KNeighborsClassifier</label><div class=\"sk-toggleable__content fitted\"><pre>KNeighborsClassifier(n_neighbors=17)</pre></div> </div></div><div class=\"sk-serial\"><div class=\"sk-item\"><div class=\"sk-estimator fitted sk-toggleable\"><input class=\"sk-toggleable__control sk-hidden--visually\" id=\"sk-estimator-id-3\" type=\"checkbox\" ><label for=\"sk-estimator-id-3\" class=\"sk-toggleable__label fitted sk-toggleable__label-arrow fitted\">&nbsp;KNeighborsClassifier<a class=\"sk-estimator-doc-link fitted\" rel=\"noreferrer\" target=\"_blank\" href=\"https://scikit-learn.org/1.5/modules/generated/sklearn.neighbors.KNeighborsClassifier.html\">?<span>Documentation for KNeighborsClassifier</span></a></label><div class=\"sk-toggleable__content fitted\"><pre>KNeighborsClassifier(n_neighbors=17)</pre></div> </div></div></div></div></div></div></div></div></div>"
      ],
      "text/plain": [
       "GridSearchCV(cv=5, estimator=KNeighborsClassifier(),\n",
       "             param_grid={'n_neighbors': [1, 2, 3, 4, 5, 6, 7, 8, 9, 10, 11, 12,\n",
       "                                         13, 14, 15, 16, 17, 18, 19, 20]},\n",
       "             return_train_score=True, scoring='accuracy')"
      ]
     },
     "execution_count": 12,
     "metadata": {},
     "output_type": "execute_result"
    }
   ],
   "source": [
    "knn_model = KNeighborsClassifier()\n",
    "grid = GridSearchCV(estimator=knn_model, param_grid={'n_neighbors': list(range(1, 21))}, cv=5, scoring='accuracy', return_train_score=True)\n",
    "grid.fit(X_train_projection, y_train) # Entrenament dels diferents models"
   ]
  },
  {
   "cell_type": "code",
   "execution_count": 33,
   "metadata": {},
   "outputs": [
    {
     "data": {
      "text/html": [
       "<div>\n",
       "<style scoped>\n",
       "    .dataframe tbody tr th:only-of-type {\n",
       "        vertical-align: middle;\n",
       "    }\n",
       "\n",
       "    .dataframe tbody tr th {\n",
       "        vertical-align: top;\n",
       "    }\n",
       "\n",
       "    .dataframe thead th {\n",
       "        text-align: right;\n",
       "    }\n",
       "</style>\n",
       "<table border=\"1\" class=\"dataframe\">\n",
       "  <thead>\n",
       "    <tr style=\"text-align: right;\">\n",
       "      <th></th>\n",
       "      <th>param_n_neighbors</th>\n",
       "      <th>mean_train_score</th>\n",
       "      <th>std_train_score</th>\n",
       "      <th>mean_test_score</th>\n",
       "      <th>std_test_score</th>\n",
       "    </tr>\n",
       "  </thead>\n",
       "  <tbody>\n",
       "    <tr>\n",
       "      <th>0</th>\n",
       "      <td>1</td>\n",
       "      <td>1.000000</td>\n",
       "      <td>0.000000</td>\n",
       "      <td>0.732837</td>\n",
       "      <td>0.022932</td>\n",
       "    </tr>\n",
       "    <tr>\n",
       "      <th>1</th>\n",
       "      <td>2</td>\n",
       "      <td>0.861601</td>\n",
       "      <td>0.003604</td>\n",
       "      <td>0.746949</td>\n",
       "      <td>0.024806</td>\n",
       "    </tr>\n",
       "    <tr>\n",
       "      <th>2</th>\n",
       "      <td>3</td>\n",
       "      <td>0.871264</td>\n",
       "      <td>0.002329</td>\n",
       "      <td>0.783853</td>\n",
       "      <td>0.015974</td>\n",
       "    </tr>\n",
       "    <tr>\n",
       "      <th>3</th>\n",
       "      <td>4</td>\n",
       "      <td>0.853685</td>\n",
       "      <td>0.007270</td>\n",
       "      <td>0.799674</td>\n",
       "      <td>0.016717</td>\n",
       "    </tr>\n",
       "    <tr>\n",
       "      <th>4</th>\n",
       "      <td>5</td>\n",
       "      <td>0.855885</td>\n",
       "      <td>0.004162</td>\n",
       "      <td>0.785561</td>\n",
       "      <td>0.032817</td>\n",
       "    </tr>\n",
       "    <tr>\n",
       "      <th>5</th>\n",
       "      <td>6</td>\n",
       "      <td>0.845340</td>\n",
       "      <td>0.005726</td>\n",
       "      <td>0.792610</td>\n",
       "      <td>0.012031</td>\n",
       "    </tr>\n",
       "    <tr>\n",
       "      <th>6</th>\n",
       "      <td>7</td>\n",
       "      <td>0.842263</td>\n",
       "      <td>0.010021</td>\n",
       "      <td>0.792610</td>\n",
       "      <td>0.021273</td>\n",
       "    </tr>\n",
       "    <tr>\n",
       "      <th>7</th>\n",
       "      <td>8</td>\n",
       "      <td>0.834351</td>\n",
       "      <td>0.009801</td>\n",
       "      <td>0.808415</td>\n",
       "      <td>0.021242</td>\n",
       "    </tr>\n",
       "    <tr>\n",
       "      <th>8</th>\n",
       "      <td>9</td>\n",
       "      <td>0.834796</td>\n",
       "      <td>0.008195</td>\n",
       "      <td>0.806645</td>\n",
       "      <td>0.020341</td>\n",
       "    </tr>\n",
       "    <tr>\n",
       "      <th>9</th>\n",
       "      <td>10</td>\n",
       "      <td>0.835673</td>\n",
       "      <td>0.008455</td>\n",
       "      <td>0.803136</td>\n",
       "      <td>0.014634</td>\n",
       "    </tr>\n",
       "    <tr>\n",
       "      <th>10</th>\n",
       "      <td>11</td>\n",
       "      <td>0.829961</td>\n",
       "      <td>0.006833</td>\n",
       "      <td>0.803105</td>\n",
       "      <td>0.024467</td>\n",
       "    </tr>\n",
       "    <tr>\n",
       "      <th>11</th>\n",
       "      <td>12</td>\n",
       "      <td>0.829522</td>\n",
       "      <td>0.004438</td>\n",
       "      <td>0.801366</td>\n",
       "      <td>0.014835</td>\n",
       "    </tr>\n",
       "    <tr>\n",
       "      <th>12</th>\n",
       "      <td>13</td>\n",
       "      <td>0.829522</td>\n",
       "      <td>0.004215</td>\n",
       "      <td>0.801351</td>\n",
       "      <td>0.021055</td>\n",
       "    </tr>\n",
       "    <tr>\n",
       "      <th>13</th>\n",
       "      <td>14</td>\n",
       "      <td>0.828644</td>\n",
       "      <td>0.003808</td>\n",
       "      <td>0.808384</td>\n",
       "      <td>0.017655</td>\n",
       "    </tr>\n",
       "    <tr>\n",
       "      <th>14</th>\n",
       "      <td>15</td>\n",
       "      <td>0.827766</td>\n",
       "      <td>0.003112</td>\n",
       "      <td>0.810123</td>\n",
       "      <td>0.023297</td>\n",
       "    </tr>\n",
       "    <tr>\n",
       "      <th>15</th>\n",
       "      <td>16</td>\n",
       "      <td>0.829082</td>\n",
       "      <td>0.005017</td>\n",
       "      <td>0.811893</td>\n",
       "      <td>0.017905</td>\n",
       "    </tr>\n",
       "    <tr>\n",
       "      <th>16</th>\n",
       "      <td>17</td>\n",
       "      <td>0.829523</td>\n",
       "      <td>0.003688</td>\n",
       "      <td>0.813647</td>\n",
       "      <td>0.019426</td>\n",
       "    </tr>\n",
       "    <tr>\n",
       "      <th>17</th>\n",
       "      <td>18</td>\n",
       "      <td>0.827767</td>\n",
       "      <td>0.002346</td>\n",
       "      <td>0.811893</td>\n",
       "      <td>0.017905</td>\n",
       "    </tr>\n",
       "    <tr>\n",
       "      <th>18</th>\n",
       "      <td>19</td>\n",
       "      <td>0.829084</td>\n",
       "      <td>0.003017</td>\n",
       "      <td>0.813647</td>\n",
       "      <td>0.019426</td>\n",
       "    </tr>\n",
       "    <tr>\n",
       "      <th>19</th>\n",
       "      <td>20</td>\n",
       "      <td>0.820293</td>\n",
       "      <td>0.012227</td>\n",
       "      <td>0.803136</td>\n",
       "      <td>0.025398</td>\n",
       "    </tr>\n",
       "  </tbody>\n",
       "</table>\n",
       "</div>"
      ],
      "text/plain": [
       "    param_n_neighbors  mean_train_score  std_train_score  mean_test_score  \\\n",
       "0                   1          1.000000         0.000000         0.732837   \n",
       "1                   2          0.861601         0.003604         0.746949   \n",
       "2                   3          0.871264         0.002329         0.783853   \n",
       "3                   4          0.853685         0.007270         0.799674   \n",
       "4                   5          0.855885         0.004162         0.785561   \n",
       "5                   6          0.845340         0.005726         0.792610   \n",
       "6                   7          0.842263         0.010021         0.792610   \n",
       "7                   8          0.834351         0.009801         0.808415   \n",
       "8                   9          0.834796         0.008195         0.806645   \n",
       "9                  10          0.835673         0.008455         0.803136   \n",
       "10                 11          0.829961         0.006833         0.803105   \n",
       "11                 12          0.829522         0.004438         0.801366   \n",
       "12                 13          0.829522         0.004215         0.801351   \n",
       "13                 14          0.828644         0.003808         0.808384   \n",
       "14                 15          0.827766         0.003112         0.810123   \n",
       "15                 16          0.829082         0.005017         0.811893   \n",
       "16                 17          0.829523         0.003688         0.813647   \n",
       "17                 18          0.827767         0.002346         0.811893   \n",
       "18                 19          0.829084         0.003017         0.813647   \n",
       "19                 20          0.820293         0.012227         0.803136   \n",
       "\n",
       "    std_test_score  \n",
       "0         0.022932  \n",
       "1         0.024806  \n",
       "2         0.015974  \n",
       "3         0.016717  \n",
       "4         0.032817  \n",
       "5         0.012031  \n",
       "6         0.021273  \n",
       "7         0.021242  \n",
       "8         0.020341  \n",
       "9         0.014634  \n",
       "10        0.024467  \n",
       "11        0.014835  \n",
       "12        0.021055  \n",
       "13        0.017655  \n",
       "14        0.023297  \n",
       "15        0.017905  \n",
       "16        0.019426  \n",
       "17        0.017905  \n",
       "18        0.019426  \n",
       "19        0.025398  "
      ]
     },
     "execution_count": 33,
     "metadata": {},
     "output_type": "execute_result"
    }
   ],
   "source": [
    "import pandas as pd\n",
    "import seaborn as sns\n",
    "# Resultats dels models entrenats\n",
    "df_results = pd.DataFrame(grid.cv_results_) # splitX_test_score = accuracy de cada split de la grid search\n",
    "df_results[[\"param_n_neighbors\", \"mean_train_score\", \"std_train_score\", \"mean_test_score\", \"std_test_score\"]]"
   ]
  },
  {
   "cell_type": "markdown",
   "metadata": {},
   "source": [
    "Gràcies a la funció _cv_results__ els càlculs de les mitjanes i les desviacions es fan de manera automàtica. A més aquesta funció també proporciona dades de la _accuracy_ per totes i cadascuna de les particions, tant per les dades d'entrenament com per les de _test_."
   ]
  },
  {
   "cell_type": "code",
   "execution_count": 34,
   "metadata": {},
   "outputs": [
    {
     "data": {
      "text/html": [
       "<div>\n",
       "<style scoped>\n",
       "    .dataframe tbody tr th:only-of-type {\n",
       "        vertical-align: middle;\n",
       "    }\n",
       "\n",
       "    .dataframe tbody tr th {\n",
       "        vertical-align: top;\n",
       "    }\n",
       "\n",
       "    .dataframe thead th {\n",
       "        text-align: right;\n",
       "    }\n",
       "</style>\n",
       "<table border=\"1\" class=\"dataframe\">\n",
       "  <thead>\n",
       "    <tr style=\"text-align: right;\">\n",
       "      <th></th>\n",
       "      <th>k</th>\n",
       "      <th>accuracy</th>\n",
       "    </tr>\n",
       "  </thead>\n",
       "  <tbody>\n",
       "    <tr>\n",
       "      <th>0</th>\n",
       "      <td>1</td>\n",
       "      <td>0.732837</td>\n",
       "    </tr>\n",
       "    <tr>\n",
       "      <th>1</th>\n",
       "      <td>2</td>\n",
       "      <td>0.746949</td>\n",
       "    </tr>\n",
       "    <tr>\n",
       "      <th>2</th>\n",
       "      <td>3</td>\n",
       "      <td>0.783853</td>\n",
       "    </tr>\n",
       "    <tr>\n",
       "      <th>3</th>\n",
       "      <td>4</td>\n",
       "      <td>0.799674</td>\n",
       "    </tr>\n",
       "    <tr>\n",
       "      <th>4</th>\n",
       "      <td>5</td>\n",
       "      <td>0.785561</td>\n",
       "    </tr>\n",
       "  </tbody>\n",
       "</table>\n",
       "</div>"
      ],
      "text/plain": [
       "   k  accuracy\n",
       "0  1  0.732837\n",
       "1  2  0.746949\n",
       "2  3  0.783853\n",
       "3  4  0.799674\n",
       "4  5  0.785561"
      ]
     },
     "execution_count": 34,
     "metadata": {},
     "output_type": "execute_result"
    }
   ],
   "source": [
    "# Visualitzacio en un line plot\n",
    "data_to_plot = df_results[['param_n_neighbors', 'mean_test_score']] # Dades que volem graficar\n",
    "data_to_plot.columns = ['k', 'accuracy'] # Renombrar columnes\n",
    "data_to_plot.head()"
   ]
  },
  {
   "cell_type": "code",
   "execution_count": 55,
   "metadata": {},
   "outputs": [
    {
     "data": {
      "image/png": "[encoded data removed]",
      "text/plain": [
       "<Figure size 640x480 with 1 Axes>"
      ]
     },
     "metadata": {},
     "output_type": "display_data"
    }
   ],
   "source": [
    "import numpy as np\n",
    "plt.figure()\n",
    "sns.lineplot(data=data_to_plot, x='k', y='accuracy', marker='o')\n",
    "plt.xlabel(\"Valor de K\")\n",
    "plt.ylabel(\"Accuracy\")\n",
    "plt.xticks(range(1, 21))\n",
    "plt.yticks(np.arange(0.7, 0.85, 0.01))\n",
    "plt.grid()\n",
    "plt.show()"
   ]
  },
  {
   "cell_type": "markdown",
   "metadata": {},
   "source": [
    "Observant tant el gràfic com la taula de resultats proporcionada per la funció _cv_results_, es pot observar que el valor de k que millor funciona és 17.\n",
    "\n",
    "**Material extern consultat:**\n",
    "\n",
    "[scikit-learn.(nd)._GridSearchCV_.scikit-learn](https://scikit-learn.org/stable/modules/generated/sklearn.model_selection.GridSearchCV.html) -> Aquest enllaç inclou, també, les funcions _fit()_ i _cv_results__.\n",
    "\n",
    "[Pandas.(nd)._pandas.DataFrame_.Pandas](https://pandas.pydata.org/docs/reference/api/pandas.DataFrame.html)\n",
    "\n",
    "[Seaborn.(nd)._seaborn.lineplot_.Seaborn](https://seaborn.pydata.org/generated/seaborn.lineplot.html)\n",
    "\n",
    "[Diversos autors.(diverses dates)._Plot point markers and lines in different hues but the same style with seaborn_.StackOverflow](https://stackoverflow.com/questions/52385428/plot-point-markers-and-lines-in-different-hues-but-the-same-style-with-seaborn)\n",
    "\n",
    "[Diversos autors.(diverses dates)._How can I add grid lines to a catplot in seaborn?_.StackOverflow](https://stackoverflow.com/questions/61503183/how-can-i-add-grid-lines-to-a-catplot-in-seaborn)\n",
    "\n",
    "[Vishal Hule.(13/04/2021)._Python range of float numbers_.PYnative Python Programming](https://pynative.com/python-range-for-float-numbers/)"
   ]
  },
  {
   "cell_type": "markdown",
   "metadata": {
    "id": "EKBqIrRJfHw8"
   },
   "source": [
    "<div class=\"alert alert-block alert-info\">\n",
    "<strong>Implementació:</strong>\n",
    "\n",
    "Segueix aquests passos amb el dataset d'entrenament (_train_):\n",
    "\n",
    "1.  Entrena un classificador KNN utilitzant el millor hiperparàmetre que hagis trobat.\n",
    "2.  Calcula l'_accuracy_ (precisió) del model tant en les dades de _train_ com de _test_.\n",
    "3.  Calcula la matriu de confusió utilitzant les dades de _test_.\n",
    "4.  Representa gràficament la frontera de decisió amb les dades de _test_.\n",
    "\n",
    "Aquest procés et permetrà veure com l'hiperparàmetre òptim que has identificat millora l'efectivitat del teu model KNN en la classificació de les dades.\n",
    "</div>"
   ]
  },
  {
   "cell_type": "code",
   "execution_count": 59,
   "metadata": {
    "id": "mK3awkbwfHw8"
   },
   "outputs": [
    {
     "name": "stdout",
     "output_type": "stream",
     "text": [
      "Accuracy dades entrenament: 0.827768014059754\n",
      "\n",
      "Accuracy dades testing: 0.8041958041958042\n"
     ]
    }
   ],
   "source": [
    "warnings.filterwarnings('ignore', message='^.*will change.*$', category=FutureWarning)\n",
    "\n",
    "# Step 1: Crear i entrenar el model KNN\n",
    "knn_optimal = KNeighborsClassifier(n_neighbors=17)\n",
    "knn_optimal.fit(X_train_projection, y_train)\n",
    "\n",
    "# Step 2: Accuracy del model\n",
    "predictions_data_training = knn_optimal.predict(X_train_projection) # Prediccions amb dades d'entrenament\n",
    "predictions_data_testing = knn_optimal.predict(X_test_projection) # Predeiccions amb dades de testing\n",
    "training_accuracy = accuracy_score(y_train, predictions_data_training)\n",
    "testing_accuracy = accuracy_score(y_test, predictions_data_testing)\n",
    "print(f\"Accuracy dades entrenament: {training_accuracy}\\n\")\n",
    "print(f\"Accuracy dades testing: {testing_accuracy}\")"
   ]
  },
  {
   "cell_type": "code",
   "execution_count": 60,
   "metadata": {},
   "outputs": [
    {
     "data": {
      "image/png": "[encoded data removed]",
      "text/plain": [
       "<Figure size 640x480 with 2 Axes>"
      ]
     },
     "metadata": {},
     "output_type": "display_data"
    }
   ],
   "source": [
    "# Step 3: Matriu de confusio\n",
    "conf_mat = confusion_matrix(y_test, predictions_data_testing)\n",
    "conf_mat_display = ConfusionMatrixDisplay(confusion_matrix=conf_mat, display_labels=labels) # Per veure la matriu de confusió bonica\n",
    "conf_mat_display.plot()\n",
    "plt.show()"
   ]
  },
  {
   "cell_type": "markdown",
   "metadata": {},
   "source": [
    "_True positive rate_ = 43 / (17 + 43) = 71.6%\n",
    "\n",
    "_True negative rate_ = 72 / (72 + 11) = 86.7%"
   ]
  },
  {
   "cell_type": "code",
   "execution_count": 61,
   "metadata": {},
   "outputs": [
    {
     "name": "stderr",
     "output_type": "stream",
     "text": [
      "C:\\Users\\mcr99\\anaconda3\\envs\\environment_uoc20242pec3\\Lib\\site-packages\\IPython\\core\\pylabtools.py:170: UserWarning: Creating legend with loc=\"best\" can be slow with large amounts of data.\n",
      "  fig.canvas.print_figure(bytes_io, **kw)\n"
     ]
    },
    {
     "data": {
      "image/png": "[encoded data removed]",
      "text/plain": [
       "<Figure size 2000x1000 with 1 Axes>"
      ]
     },
     "metadata": {},
     "output_type": "display_data"
    }
   ],
   "source": [
    "# Step 4: Representar la frontera de decisió de les dades de test\n",
    "plot_decision_boundaries(knn_optimal, X_test_projection, y_test)"
   ]
  },
  {
   "cell_type": "markdown",
   "metadata": {
    "id": "teluDtnHfHw8"
   },
   "source": [
    "<div class=\"alert alert-block alert-info\">\n",
    "<strong>Anàlisi:</strong>\n",
    "\n",
    "1.  Comenta els resultats obtinguts en la cerca del millor hiperparàmetre. Reflexiona sobre com va variar el rendiment del model amb els diferents valors de `n_neighbors`.\n",
    "2.  Analitza com es visualitza gràficament el canvi del valor de `n_neighbors`. Observes alguna tendència o patró clar? És coherent aquesta diferència entre els dos gràfics en canviar el paràmetre?\n",
    "3.  Examina les fronteres de decisió que has generat. La forma d'aquestes fronteres té sentit donat l'algorisme KNN utilitzat? Pensa en com l'elecció del nombre de veïns influeix en la forma de la frontera.\n",
    "4.  Avalua les prediccions realitzades sobre el conjunt de test. Observa'n la precisió i com es distribueixen en relació amb les fronteres de decisió. Són consistents aquestes prediccions amb el que observes a les fronteres de decisió?\n",
    "\n",
    "Aquesta anàlisi t'ajudarà a comprendre l'eficàcia del model KNN amb diferents configuracions de `n_neighbors` i el seu impacte en la classificació de les dades.\n",
    "</div>"
   ]
  },
  {
   "cell_type": "markdown",
   "metadata": {
    "id": "mWfKrH8uca4Q"
   },
   "source": [
    "<div class=\"alert alert-block alert-success\">\n",
    "<strong>Resposta:\n",
    "    \n",
    "Anàlisi punt 1 -> S'ha observat que en el primer model knn (k = 2) la accuracy del model per a les dades d'entrenament era d'un 86% aproximadament però per a les dades de test ha estat d'un 74%, aproximadament. És una diferència molt notòria entre ambdues puntuacions, cosa que podria indicar que el model està sobre ajustat. En canvi, amb el valor de k = 17, aquesta gran diferència entre accuracies desapareix atès que la accuracy d'entrenament és, aproximadament, d'un 82% i la de testing és d'un 80%. Aquesta petita diferència fa pensar que el model no està patint overfitting.\n",
    "\n",
    "Anàlisi punt 2 -> Analitzant el gràfic de com varia l'accuracy segons el valor de k, no s'observa cap patró evident, però sí que es pot observar que per valors de k entre 1 i 20 els millors valors que pot obtenir l'hiperparàmetre són 17 o 20. Només observant el gràfic no es pot decidir quin és el millor d'aquests dos. Per prendre la decisió cal mirar la taula de resultats amb les mitjanes i les desviacions.\n",
    "\n",
    "Anàlisi punt 3 -> En el cas del model amb un valor de k petit, s'observen unes fronteres irregulars (punxegudes) amb moltes \"illes frontera\". En el cas del model amb k = 17, les fronteres són més suaus i no hi ha tantes \"illes frontera\". Per tant, atesos els valors de k, es pot concloure que les fronteres, cadascuna per al seu model, tenen sentit.\n",
    "\n",
    "Anàlisi punt 4 -> Per analitzar les prediccions cal mirar les matrius de confusió d'ambdós models. Quan la resposta es \"sí\" el model prediu \"sí\" un 51.6% de les vegades enfront del 71.6% del segon model. En el cas que la resposta sigui \"no\" el primer model prediu \"no\" el 90.4% de les vegades i el segon model, el 86.7% de les vegades. Per tant, es pot observar que el primer model és més bo predient quan la gent no va sobreviure i el segon model també és millor predient quan la gent va morir. El que s'observa en el cas de les prediccions \"sí\" s'observa que el primer model (k = 2) realitza correctament el 51.6% de les vegades mentre que el segon model (k = 17) ho fa el 71.6% de les vegades. Aquests percentatges indiquen que el segon model (k = 17) està més equilibrat. El primer model (k = 2) prediu les respostes \"sí\" quasi de manera aleatòria (51.6%).\n",
    "</strong>\n",
    "\n",
    "\n",
    "</div>"
   ]
  },
  {
   "cell_type": "markdown",
   "metadata": {
    "id": "pGclgMlmc_Jo"
   },
   "source": []
  },
  {
   "cell_type": "markdown",
   "metadata": {
    "id": "UoWjLa8LfHw9"
   },
   "source": [
    "<a id='ej13'></a>\n",
    "## 1.3. SVM (1.25 punts)\n",
    "\n",
    "En aquesta secció, exploraràs les Màquines de Vectors de Suport (SVM), que es basen en el concepte del *Maximal Margin Classifier* i l'hiperplà.\n",
    "\n",
    "Un hiperplà en un espai p-dimensional es defineix com un subespai pla i afí de dimensions p-1. En dues dimensions, és una recta; en tres, un pla convencional. Per a dimensions superiors a tres, tot i que no és intuïtiu visualitzar-lo, el concepte es manté.\n",
    "\n",
    "Quan els casos són perfectament separables de manera lineal, sorgeixen infinits possibles hiperplans. Per seleccionar el classificador òptim, utilitza el concepte de *maximal margin hyperplane*, l'hiperplà que es troba més allunyat de totes les observacions d'entrenament. Aquest es defineix calculant la distància perpendicular mínima (marge) de les observacions a un hiperplà. L'hiperplà òptim és aquell que maximitza aquest marge.\n",
    "\n",
    "En el procés d'optimització, has de tenir en compte que només les observacions al marge o que el violen (vectors de suport) influeixen en l'hiperplà. Aquests vectors de suport són els que defineixen el classificador."
   ]
  },
  {
   "cell_type": "markdown",
   "metadata": {
    "id": "WMxzknM5fHw9"
   },
   "source": [
    "#### Els *kernels* en SVM\n",
    "\n",
    "En situacions on no pots trobar un hiperplà que separi dues classes, és a dir, quan les classes no són linealment separables, pots utilitzar el truc del nucli (*kernel trick*). Aquest mètode et permet treballar en una dimensió nova on és possible trobar un hiperplà per separar les classes.\n",
    "\n",
    "Igual que amb el KNN, les SVM també depenen de diversos hiperparàmetres. En aquest cas, et centraràs a optimitzar dos hiperparàmetres:\n",
    "\n",
    "1.  **C**: la regularització, que és el valor de penalització dels errors en la classificació. Aquest valor indica el compromís entre obtenir l'hiperplà amb el marge més gran possible i classificar correctament el màxim nombre d'exemples. Has de provar els valors següents: 0.01, 0.1, 1, 10, 50, 100 i 200.\n",
    "\n",
    "2.  **Gamma**: un coeficient que multiplica la distància entre dos punts en el kernel radial. En termes simples, com més petit sigui gamma, més influència tindran dos punts propers. Has de provar els valors: 0.001, 0.01, 0.1, 1 i 10.\n",
    "\n",
    "Per validar el rendiment de l'algorisme amb cada combinació d'hiperparàmetres, utilitza la validació creuada (*cross-validation*) amb 5 particions estratificades."
   ]
  },
  {
   "cell_type": "markdown",
   "metadata": {
    "id": "UdHJe2affHw9"
   },
   "source": [
    "<div class=\"alert alert-block alert-info\">\n",
    "    <strong>Implementació:</strong>\n",
    "\n",
    "\n",
    "1.  Calcula el valor òptim dels hiperparàmetres _C_ i _gamma_ utilitzant una cerca de reixeta amb validació creuada. Aquest procés t'ajudarà a trobar els valors òptims.\n",
    "2.  Per a cada combinació de valors, calcula'n la mitjana i la desviació estàndard.\n",
    "3.  Fes un *heatmap* per visualitzar la precisió segons els diferents valors dels hiperparàmetres.\n",
    "\n",
    "Utilitza el mòdul `GridSearchCV` de `sklearn` per calcular els millors hiperparàmetres amb el classificador SVC (de `SVM` de `sklearn`). Per a la visualització del *heatmap*, empra la llibreria `Seaborn`.\n",
    "\n",
    "Aquests passos et permetran identificar de manera efectiva i visual els valors de _C_ i _gamma_ que maximitzen la precisió del teu model SVM.\n",
    "</div>"
   ]
  },
  {
   "cell_type": "code",
   "execution_count": null,
   "metadata": {
    "id": "eBxQod7LfHw9"
   },
   "outputs": [],
   "source": []
  },
  {
   "cell_type": "markdown",
   "metadata": {
    "id": "_E-ae6x0fHw9"
   },
   "source": [
    "<div class=\"alert alert-block alert-info\">\n",
    "<strong>Implementació:</strong>\n",
    "\n",
    "Realitza els passos següents amb el dataset d'entrenament (_train_):\n",
    "\n",
    "1.  Entrena un model SVM utilitzant la millor combinació de paràmetres que hagis trobat.\n",
    "2.  Calcula l'_accuracy_ (precisió) del model tant en les dades de _train_ com de _test_.\n",
    "3.  Calcula la matriu de confusió utilitzant les dades de _test_.\n",
    "4.  Representa gràficament la frontera de decisió amb les dades de _test_.\n",
    "\n",
    "Aquest procés et permetrà veure com la millor combinació de paràmetres millora l'efectivitat del teu model SVM en la classificació de les dades.\n",
    "</div>"
   ]
  },
  {
   "cell_type": "code",
   "execution_count": null,
   "metadata": {
    "id": "Qf2kQHuMfHw9"
   },
   "outputs": [],
   "source": []
  },
  {
   "cell_type": "markdown",
   "metadata": {
    "id": "oT7FOpk9fHw9"
   },
   "source": [
    "<div class=\"alert alert-block alert-info\">\n",
    "<strong>Anàlisi:</strong>\n",
    "\n",
    "1.  Comenta els resultats obtinguts en la cerca dels millors hiperparàmetres. Reflexiona sobre com va variar el rendiment del model SVM amb els diferents valors de _C_ i _gamma_. Considera si els valors òptims trobats tenen sentit en el context del teu conjunt de dades.\n",
    "2.  Examina les fronteres de decisió que has generat amb el model SVM. La forma d'aquestes fronteres és coherent amb el que esperaries de l'algorisme utilitzat? Pensa en com la combinació d'hiperparàmetres seleccionats podria influir en la forma de les fronteres.\n",
    "3.  Avalua les prediccions realitzades sobre el conjunt de test. Observa'n la precisió i com es distribueixen en relació amb les fronteres de decisió. Són consistents aquestes prediccions amb el que observes a les fronteres de decisió?\n",
    "\n",
    "Aquesta anàlisi t'ajudarà a comprendre l'eficàcia del model SVM amb els hiperparàmetres seleccionats i el seu impacte en la classificació de les dades.\n",
    "</div>"
   ]
  },
  {
   "cell_type": "markdown",
   "metadata": {
    "id": "kan9R0kpfHw9",
    "tags": []
   },
   "source": [
    "<div class=\"alert alert-block alert-success\">\n",
    "<strong>Resposta:</strong>\n",
    "\n",
    "\n",
    "</div>"
   ]
  },
  {
   "cell_type": "markdown",
   "metadata": {
    "id": "M22QGoe2c8Jb"
   },
   "source": []
  },
  {
   "cell_type": "markdown",
   "metadata": {
    "id": "x9Z1MzFbfHw9"
   },
   "source": [
    "<a id='ej14'></a>\n",
    "## 1.4. Arbres de decisió (1.25 punts)\n",
    "\n",
    "En aquesta secció, exploraràs els arbres de decisió, models predictius que es basen en regles binàries (sí/no) per classificar les observacions segons els seus atributs i predir el valor de la variable resposta. Aquests arbres poden ser classificadors, com en el teu exemple, o regressors per predir variables contínues.\n",
    "\n",
    "#### Construcció d'un Arbre\n",
    "\n",
    "Per construir un arbre, segueix l'algorisme de *recursive binary splitting*:\n",
    "\n",
    "1.  Comença a la part superior de l'arbre, on totes les observacions pertanyen a la mateixa regió.\n",
    "2.  Identifica tots els possibles punts de tall per a cadascun dels predictors. Aquests punts de tall són els diferents nivells dels predictors.\n",
    "3.  Avalua les possibles divisions per a cada predictor utilitzant una mesura específica. En els classificadors, aquestes mesures poden ser el *classification error rate*, l'índex Gini, l'entropia o el chi-quadrat.\n",
    "\n",
    "Comprendre aquests passos t'ajudarà a entendre com els arbres de decisió creen divisions binàries per classificar les dades i com aquests es poden aplicar tant per a classificació com per a regressió."
   ]
  },
  {
   "cell_type": "markdown",
   "metadata": {
    "id": "wTnIbWTYfHw9"
   },
   "source": [
    "<div class=\"alert alert-block alert-info\">\n",
    "<strong>Implementació:</strong>\n",
    "\n",
    "Segueix aquests passos:\n",
    "\n",
    "1.  Amb el dataset d'entrenament, entrena un arbre de decisió utilitzant el classificador `DecisionTreeClassifier` de la biblioteca `tree` de `sklearn`.\n",
    "2.  Calcula l'_accuracy_ (precisió) del model tant en les dades de _train_ com de _test_.\n",
    "3.  Calcula la matriu de confusió utilitzant les dades de _test_.\n",
    "4.  Representa gràficament la frontera de decisió amb les dades de _test_.\n",
    "5.  Representa l'arbre de decisió. Pots utilitzar el comandament `plot.tree` de la biblioteca `tree` de `sklearn`.\n",
    "\n",
    "Aquests passos et permetran avaluar com l'arbre de decisió es comporta en el teu conjunt de dades, tant en termes de classificació com en la seva representació visual.\n",
    "</div>"
   ]
  },
  {
   "cell_type": "code",
   "execution_count": null,
   "metadata": {
    "id": "kqqvClsEfHw-"
   },
   "outputs": [],
   "source": []
  },
  {
   "cell_type": "markdown",
   "metadata": {
    "id": "PI_q3bCafHw-"
   },
   "source": [
    "<div class=\"alert alert-block alert-info\">\n",
    "<strong>Anàlisi:</strong>\n",
    "\n",
    "1.  Avalua i comenta els resultats obtinguts amb l'arbre de decisió. Considera tant l'_accuracy_ del model en els conjunts de _train_ i _test_ com els resultats de la matriu de confusió.\n",
    "2.  Reflexiona sobre com la frontera de decisió visualitzada en el conjunt de _test_ s'alinea amb els resultats obtinguts. És coherent amb el que esperaries d'un arbre de decisió?\n",
    "3.  Observa la representació gràfica de l'arbre. Analitza com les diferents ramificacions i decisions preses a l'arbre expliquen el comportament del model i el seu impacte en la classificació de les dades.\n",
    "\n",
    "Aquesta anàlisi t'ajudarà a comprendre en profunditat el funcionament i l'eficàcia de l'arbre de decisió en el teu conjunt de dades específic.\n",
    "\n",
    "</div>"
   ]
  },
  {
   "cell_type": "markdown",
   "metadata": {
    "id": "MABFtjLJfHw-",
    "tags": []
   },
   "source": [
    "<div class=\"alert alert-block alert-success\">\n",
    "<strong>Resposta:</strong>\n",
    "\n",
    "\n",
    "</div>"
   ]
  },
  {
   "cell_type": "markdown",
   "metadata": {
    "id": "NltNtvfgc5gM"
   },
   "source": []
  },
  {
   "cell_type": "markdown",
   "metadata": {
    "id": "GlU7Tg-1fHw-"
   },
   "source": [
    "#### Evitant l'*overfitting*\n",
    "\n",
    "El procés de construcció d'arbres descrit tendeix a reduir ràpidament l'error d'entrenament, per la qual cosa generalment el model s'ajusta molt bé a les observacions utilitzades com a entrenament (conjunt de *train*). Com a conseqüència, els arbres de decisió tendeixen a l'*overfitting*.\n",
    "\n",
    "Per evitar l'*overfitting* en els arbres de decisió, és crucial que modifiquis certs hiperparàmetres del model de la manera següent:\n",
    "\n",
    "1.  Utilitza l'hiperparàmetre `max_depth`, que defineix la profunditat màxima de l'arbre. Hauràs d'explorar els valors entre 4 i 10 per trobar l'equilibri adequat entre la complexitat del model i la seva capacitat per generalitzar.\n",
    "2.  Estableix l'hiperparàmetre `min_samples_split`, que és el nombre mínim d'observacions que ha de tenir una fulla de l'arbre abans de considerar una divisió. Experimenta amb valors com 2, 10, 20, 50 i 100 per assegurar-te que l'arbre no es torni massa específic per a les observacions d'entrenament.\n",
    "\n",
    "Ajustant aquests hiperparàmetres, podràs controlar la tendència de l'arbre de decisió a sobreajustar-se al conjunt d'entrenament, millorant així la seva capacitat per realitzar prediccions efectives en noves dades."
   ]
  },
  {
   "cell_type": "markdown",
   "metadata": {
    "id": "o2KF6CI2fHw-"
   },
   "source": [
    "<div class=\"alert alert-block alert-info\">\n",
    "    <strong>Implementació:</strong>\n",
    "\n",
    "1.  Calcula el valor òptim dels hiperparàmetres `max_depth` i `min_samples_split` utilitzant una cerca de reixeta amb validació creuada. Aquest procés t'ajudarà a trobar els valors òptims que evitaran el sobreajustament.\n",
    "2.  Per a cada combinació de valors, calcula'n la mitjana i la desviació estàndard.\n",
    "3.  Fes un *heatmap* per visualitzar la precisió segons els diferents valors dels hiperparàmetres.\n",
    "\n",
    "Utilitza el mòdul `GridSearchCV` de `sklearn` per calcular els millors hiperparàmetres amb el classificador `DecisionTreeClassifier` de `tree` de `sklearn`. Per a la visualització del *heatmap*, empra la llibreria `Seaborn`.\n",
    "\n",
    "Aquests passos et permetran identificar de manera efectiva i visual els valors de `max_depth` i `min_samples_split` que maximitzen la precisió del teu arbre de decisió, minimitzant el risc de sobreajustament.\n",
    "</div>"
   ]
  },
  {
   "cell_type": "code",
   "execution_count": null,
   "metadata": {
    "id": "JAaYYYTbfHw-"
   },
   "outputs": [],
   "source": []
  },
  {
   "cell_type": "markdown",
   "metadata": {
    "id": "DT9ttV8GfHw-"
   },
   "source": [
    "<div class=\"alert alert-block alert-info\">\n",
    "<strong>Implementació:</strong>\n",
    "\n",
    "\n",
    "1.  Entrena un arbre de decisió amb el dataset d'entrenament (_train_) utilitzant la millor combinació de paràmetres que hagis trobat.\n",
    "2.  Calcula l'_accuracy_ (precisió) del model tant en les dades de _train_ com de _test_.\n",
    "3.  Calcula la matriu de confusió utilitzant les dades de _test_.\n",
    "4.  Representa gràficament la frontera de decisió amb les dades de _test_.\n",
    "5.  Representa l'arbre de decisió.\n",
    "\n",
    "Aquests passos et permetran avaluar com l'arbre de decisió, ajustat amb els hiperparàmetres òptims, es comporta en el teu conjunt de dades, tant en termes de classificació com en la seva representació visual.\n",
    "\n",
    "</div>"
   ]
  },
  {
   "cell_type": "code",
   "execution_count": null,
   "metadata": {
    "id": "R3ZJ7I-FfHw-"
   },
   "outputs": [],
   "source": []
  },
  {
   "cell_type": "markdown",
   "metadata": {
    "id": "-cQKFNpffHw-"
   },
   "source": [
    "<div class=\"alert alert-block alert-info\">\n",
    "<strong>Anàlisi:</strong>\n",
    "\n",
    "1.  Avalua i comenta els resultats obtinguts en la cerca dels millors hiperparàmetres. Considera com la combinació òptima de `max_depth` i `min_samples_split` ha impactat el rendiment de l'arbre de decisió.\n",
    "2.  Examina les fronteres de decisió generades amb el conjunt de _test_. Reflexiona sobre si la forma d'aquestes fronteres és coherent amb el que esperaries d'un arbre de decisió configurat amb aquests hiperparàmetres.\n",
    "3.  Analitza les prediccions realitzades sobre el conjunt de test. Observa'n la precisió i com es distribueixen en relació amb les fronteres de decisió. Són consistents aquestes prediccions amb l'estructura de l'arbre de decisió i les fronteres observades?\n",
    "\n",
    "Aquesta anàlisi t'ajudarà a comprendre l'eficàcia de l'arbre de decisió amb els hiperparàmetres seleccionats i el seu impacte en la classificació de les dades.\n",
    "</div>"
   ]
  },
  {
   "cell_type": "markdown",
   "metadata": {
    "id": "y3vL6gWjfHw_",
    "tags": []
   },
   "source": [
    "<div class=\"alert alert-block alert-success\">\n",
    "<strong>Resposta:</strong>\n",
    "\n",
    "\n",
    "</div>"
   ]
  },
  {
   "cell_type": "markdown",
   "metadata": {
    "id": "4HbqUDmtfreO"
   },
   "source": []
  },
  {
   "cell_type": "markdown",
   "metadata": {
    "id": "TE8X3W2NfreP"
   },
   "source": [
    "<a id='ej2'></a>\n",
    "# 2. Comprensió d'algorismes supervisats (3.25 punts)\n",
    "\n",
    "En aquest exercici aprofundirem en la comprensió dels algorismes supervisats que hem estudiat, en concret, Arbres de decisió i Knn. Per fer-ho treballarem amb un problema de regressió molt senzill (un únic atribut descriptiu) que es resoldria de forma directa amb una regressió lineal.\n",
    "\n",
    "**IMPORTANT:** En aquest exercici no es poden utilitzar altres models, ni tècniques com a *ensemble learning* ni fer servir altres llibreries diferents de les indicades i importades a l'inici de la PAC. En aquest exercici hem de seguir les indicacions que es proporcionaran a cada secció, on ens centrarem a transformar el problema (dades) per aconseguir resoldre el nostre problema.\n",
    "\n",
    "En aquest exercici ens donarem suport en la funció *plot\\_regression*, la qual ens permetrà representar de forma senzilla les solucions obtingudes.\n",
    "\n",
    "**NOTA:** En aquest exercici realitzarem moltes anàlisis visuals amb l'objectiu d'aprofundir en els coneixements teòrics vistos al mòdul. Aquest exercici es realitzarà amb una finalitat didàctica; en la realitat sempre cal donar suport en diverses mètriques objectives per al problema que estiguem resolent, a més, per descomptat, de visualitzar si és possible el problema que estiguem resolent."
   ]
  },
  {
   "cell_type": "code",
   "execution_count": null,
   "metadata": {
    "id": "0cOWFQIofreQ"
   },
   "outputs": [],
   "source": [
    "def plot_regression(x_train, y_train, x_test, y_test, preds_train=None, preds_test=None):\n",
    "    plt.figure(figsize=(15, 8))\n",
    "    plt.scatter(x_train, y_train, s=60, marker='8', label='train')\n",
    "    plt.scatter(x_test, y_test, s=60, marker='8', label='test')\n",
    "\n",
    "    if preds_train is not None:\n",
    "        plt.scatter(x_train, preds_train, s=60, marker='8', label='preds_train')\n",
    "\n",
    "    if preds_test is not None:\n",
    "        plt.scatter(x_test, preds_test, s=60, marker='8', label='preds_test')\n",
    "\n",
    "    plt.legend()\n",
    "    plt.show()"
   ]
  },
  {
   "cell_type": "markdown",
   "metadata": {
    "id": "VZoAA9H9freQ"
   },
   "source": [
    "A la cel·la següent es defineix el conjunt de dades i se separa en entrenament i test, com es pot observar a la gràfica."
   ]
  },
  {
   "cell_type": "code",
   "execution_count": null,
   "metadata": {
    "id": "_ulRcCEafreQ",
    "outputId": "1afa440f-2886-4d5b-ca2d-f6bc6afe2533"
   },
   "outputs": [
    {
     "data": {
      "image/png": "[encoded data removed]",
      "text/plain": [
       "<Figure size 1500x800 with 1 Axes>"
      ]
     },
     "metadata": {},
     "output_type": "display_data"
    }
   ],
   "source": [
    "n_samples = 250\n",
    "test_size = int(n_samples * 0.2)\n",
    "X, y = datasets.make_regression(n_features=1, n_samples=n_samples, bias=500, noise=0, random_state=0)\n",
    "X, y = zip(*sorted(zip(X,y)))\n",
    "X = np.array(X); y = np.array(y)\n",
    "\n",
    "X_train = X[:-test_size]\n",
    "X_test = X[-test_size:]\n",
    "\n",
    "y_train = y[:-test_size]\n",
    "y_test = y[-test_size:]\n",
    "\n",
    "plot_regression(X_train, y_train, X_test, y_test)"
   ]
  },
  {
   "cell_type": "markdown",
   "metadata": {
    "id": "bkuRgMf-freR"
   },
   "source": [
    "<div class=\"alert alert-block alert-info\">\n",
    "<strong>Implementació:</strong>\n",
    "\n",
    "1.  Calcula el valor òptim dels hiperparàmetres `max_depth` i `min_samples_split` per a un arbre de decisió utilitzant una cerca de reixeta amb validació creuada i la mètrica 'r2_score'. Aquest procés t'ajudarà a trobar els valors òptims que evitaran el sobreajustament.\n",
    "\n",
    "2.  Per a cada combinació de valors, calcula'n la mitjana i la desviació estàndard.\n",
    "\n",
    "3.  Mostra el valor òptim trobat per als dos hiperparàmetres.\n",
    "\n",
    "4.  Entrena un arbre de decisió amb el dataset d'entrenament (_train_) utilitzant la millor combinació de paràmetres que hagis trobat.\n",
    "\n",
    "5.  Realitza la predicció sobre el conjunt d'entrenament (_train_) i test per representar gràficament els resultats utilitzant la funció `plot_regression`. Tingues en compte que necessitem visualitzar les 4 sèries: _train_, _test_, predicció sobre _train_ i predicció sobre _test_.\n",
    "\n",
    "Utilitza el mòdul `GridSearchCV` de `sklearn` per calcular els millors hiperparàmetres amb el classificador `DecisionTreeRegressor` de `tree` de `sklearn`.\n",
    "\n",
    "</div>"
   ]
  },
  {
   "cell_type": "code",
   "execution_count": null,
   "metadata": {
    "id": "UcRw3dz0freS"
   },
   "outputs": [],
   "source": []
  },
  {
   "cell_type": "markdown",
   "metadata": {
    "id": "we4BzKu4freV"
   },
   "source": [
    "<div class=\"alert alert-block alert-info\">\n",
    "<strong>Anàlisi:</strong>\n",
    "\n",
    "1.  Analitza visualment les prediccions sobre el conjunt d'entrenament. S'adapta bé el model a aquest conjunt de dades? Hi ha *overfitting*? Per què?\n",
    "2.  Analitza visualment les prediccions sobre el conjunt de *test*. S'adapta bé el model a aquest conjunt de dades? Per què?\n",
    "3.  És l'arbre de decisió un bon model per al problema que estem resolent? Per què?\n",
    "\n",
    "En aquesta anàlisi s'ha de reflexionar sobre els resultats, justificant el comportament del model basant-se en els conceptes teòrics apresos en aquest mòdul.\n",
    "</div>"
   ]
  },
  {
   "cell_type": "markdown",
   "metadata": {
    "id": "Esw5qeeafreV"
   },
   "source": [
    "<div class=\"alert alert-block alert-success\">\n",
    "<strong>Resposta:</strong>\n",
    "</div>"
   ]
  },
  {
   "cell_type": "markdown",
   "metadata": {
    "id": "dFR9ItxrdV8G"
   },
   "source": []
  },
  {
   "cell_type": "code",
   "execution_count": null,
   "metadata": {
    "id": "NtW29DlLfreW"
   },
   "outputs": [],
   "source": []
  },
  {
   "cell_type": "markdown",
   "metadata": {
    "id": "nWO4mOohfreW"
   },
   "source": [
    "<div class=\"alert alert-block alert-info\">\n",
    "<strong>Implementació:</strong> En aquesta secció transformarem el problema per ajudar l'arbre de decisió a realitzar millors prediccions. Per fer-ho:\n",
    "\n",
    "1.  Crea un nou conjunt de dades _transformed\\_X\\_train_ i _transformed\\_X\\_test_ a partir dels conjunts originals _X\\_train_ i _X\\_test_ de manera que cada valor del conjunt transformat sigui la diferència del seu corresponent valor original (en base a la seva posició en el conjunt de dades) menys el valor previ del conjunt original. És a dir: transformed[i] = original[i] - original[i-1]. Presta especial atenció al primer valor del conjunt de dades.\n",
    "\n",
    "2.  Crea un nou conjunt de dades _transformed\\_y\\_train_ i _transformed\\_y\\_test_ a partir dels conjunts originals _y\\_train_ i _y\\_test_ aplicant la mateixa lògica del punt anterior.\n",
    "\n",
    "3.  Representa gràficament el nou problema utilitzant la funció `plot_regression`.\n",
    "\n",
    "Amb aquesta transformació, predirem l'increment de la regressió en lloc del valor absolut.\n",
    "\n",
    "</div>"
   ]
  },
  {
   "cell_type": "code",
   "execution_count": null,
   "metadata": {
    "id": "1YVCClDWfreW"
   },
   "outputs": [],
   "source": []
  },
  {
   "cell_type": "markdown",
   "metadata": {
    "id": "jMeHn949frf_"
   },
   "source": [
    "<div class=\"alert alert-block alert-info\">\n",
    "<strong>Anàlisi:</strong> Analitza visualment el nou problema que resoldrem i justifica, basant-te en els conceptes teòrics apresos en aquest mòdul, el motiu pel qual l'arbre de decisió s'hauria d'adaptar millor a aquest problema.\n",
    "</div>"
   ]
  },
  {
   "cell_type": "markdown",
   "metadata": {
    "id": "OU1hBQgifrgA"
   },
   "source": [
    "<div class=\"alert alert-block alert-success\">\n",
    "<strong>Resposta:</strong>\n",
    "\n",
    "</div>"
   ]
  },
  {
   "cell_type": "markdown",
   "metadata": {
    "id": "328vfcAwdZXw"
   },
   "source": []
  },
  {
   "cell_type": "markdown",
   "metadata": {
    "id": "E_ZS6E3JfrgB"
   },
   "source": [
    "<div class=\"alert alert-block alert-info\">\n",
    "<strong>Implementació:</strong> Repetirem el procés d'entrenament i predicció sobre el <strong>nou conjunt de dades transformat</strong>. Per fer-ho:\n",
    "\n",
    "1.  Calcula el valor òptim dels hiperparàmetres `max_depth` i `min_samples_split` per a un arbre de decisió utilitzant una cerca de reixeta amb validació creuada i la mètrica 'r2_score'. Aquest procés t'ajudarà a trobar els valors òptims que evitaran el sobreajustament.\n",
    "\n",
    "2.  Per a cada combinació de valors, calcula'n la mitjana i la desviació estàndard.\n",
    "\n",
    "3.  Mostra el valor òptim trobat per als dos hiperparàmetres.\n",
    "\n",
    "4.  Entrena un arbre de decisió amb el dataset d'entrenament (_train_) utilitzant la millor combinació de paràmetres que hagis trobat.\n",
    "\n",
    "5.  Realitza la predicció sobre el conjunt d'entrenament (_train_) i test per representar gràficament els resultats utilitzant la funció `plot_regression`. Tingues en compte que necessitem visualitzar les 4 sèries: _train_, _test_, predicció sobre _train_ i predicció sobre _test_.\n",
    "\n",
    "Utilitza el mòdul `GridSearchCV` de `sklearn` per calcular els millors hiperparàmetres amb el classificador `DecisionTreeClassifier` de `tree` de `sklearn`.\n",
    "\n",
    "</div>"
   ]
  },
  {
   "cell_type": "code",
   "execution_count": null,
   "metadata": {
    "id": "vSKA3om9frgB"
   },
   "outputs": [],
   "source": []
  },
  {
   "cell_type": "markdown",
   "metadata": {
    "id": "v5KjO56vfrgC"
   },
   "source": [
    "<div class=\"alert alert-block alert-info\">\n",
    "<strong>Anàlisi:</strong> Analitza visualment les prediccions en el nou problema. S'adapta millor l'arbre de decisió al problema?\n",
    "</div>"
   ]
  },
  {
   "cell_type": "markdown",
   "metadata": {
    "id": "0NXlg29HfrgC"
   },
   "source": [
    "<div class=\"alert alert-block alert-success\">\n",
    "<strong>Resposta:</strong>\n",
    "\n",
    "</div>"
   ]
  },
  {
   "cell_type": "markdown",
   "metadata": {
    "id": "XrjIUBifdiGG"
   },
   "source": []
  },
  {
   "cell_type": "markdown",
   "metadata": {
    "id": "Vk9RSrn_frgC"
   },
   "source": []
  },
  {
   "cell_type": "markdown",
   "metadata": {
    "id": "oeIsl4A1frgD"
   },
   "source": [
    "<div class=\"alert alert-block alert-info\">\n",
    "<strong>Implementació:</strong> En aquesta secció desfarem la transformació aplicada per comprovar si el nou model resol el problema original. Per fer-ho:\n",
    "\n",
    "1.  Crea un nou conjunt de dades _original\\_preds\\_train_ i _original\\_preds\\_test_ a partir dels conjunts originals _preds\\_train_ i _preds\\_test_ desfent la transformació que hem aplicat al problema. És a dir: original[i] = original[i-1] + transformed[i]. Presta especial atenció al primer valor del conjunt de dades.\n",
    "\n",
    "2.  Representa gràficament els resultats utilitzant la funció `plot_regression`. Tingues en compte que necessitem visualitzar les 4 sèries: _train_, _test_, predicció sobre _train_ i predicció sobre _test_.\n",
    "\n",
    "</div>"
   ]
  },
  {
   "cell_type": "code",
   "execution_count": null,
   "metadata": {
    "id": "N61z3jMSfrgD"
   },
   "outputs": [],
   "source": []
  },
  {
   "cell_type": "markdown",
   "metadata": {
    "id": "WIIHrRUefrgD"
   },
   "source": [
    "<div class=\"alert alert-block alert-info\">\n",
    "<strong>Anàlisi:</strong> Analitza visualment les prediccions transformades al problema original. L'arbre de decisió aconsegueix resoldre el problema original? Per què? Justifica la resposta basant-te en els conceptes teòrics apresos en aquest mòdul.\n",
    "</div>"
   ]
  },
  {
   "cell_type": "markdown",
   "metadata": {
    "id": "1cRjoBo8frgE"
   },
   "source": [
    "<div class=\"alert alert-block alert-success\">\n",
    "<strong>Resposta:</strong>\n",
    "\n",
    "</div>"
   ]
  },
  {
   "cell_type": "markdown",
   "metadata": {
    "id": "DaP04_YRdwUb"
   },
   "source": []
  },
  {
   "cell_type": "markdown",
   "metadata": {
    "id": "6tCDrGj9frgE"
   },
   "source": []
  },
  {
   "cell_type": "markdown",
   "metadata": {
    "id": "82CcmIx7frgE"
   },
   "source": [
    "<div class=\"alert alert-block alert-info\">\n",
    "<strong>Anàlisi:</strong> Com es comportaria el model Knn en el problema original? Obtindria una bona predicció en el conjunt de test? Per què? Justifica la resposta basant-te en els conceptes teòrics apresos en aquest mòdul.\n",
    "</div>"
   ]
  },
  {
   "cell_type": "markdown",
   "metadata": {
    "id": "nNde_BABfrgE"
   },
   "source": [
    "<div class=\"alert alert-block alert-success\">\n",
    "<strong>Resposta:</strong>\n",
    "\n",
    "</div>"
   ]
  },
  {
   "cell_type": "markdown",
   "metadata": {
    "id": "Tzrvv8PwdyJt"
   },
   "source": []
  },
  {
   "cell_type": "markdown",
   "metadata": {
    "id": "JztP5LEQfrgT"
   },
   "source": [
    "<div class=\"alert alert-block alert-info\">\n",
    "<strong>Implementació:</strong> Repetirem el procés d'entrenament i predicció sobre el **nou conjunt de dades transformat** aplicant el model Knn. Per fer-ho:\n",
    "\n",
    "1.  Calcula el valor òptim de l'hiperparàmetre `n_neighbors` per al regressors `KNeighborsRegressor` de `sklearn` utilitzant una cerca de reixeta amb validació creuada i la mètrica 'r2_score'.\n",
    "\n",
    "2.  Per a cada combinació de valors, calcula'n la mitjana i la desviació estàndard.\n",
    "\n",
    "3.  Mostra el valor òptim trobat per als dos hiperparàmetres.\n",
    "\n",
    "4.  Entrena un arbre de decisió amb el dataset d'entrenament (_train_) utilitzant la millor combinació de paràmetres que hagis trobat.\n",
    "\n",
    "5.  Realitza la predicció sobre el conjunt d'entrenament (_train_) i test per representar gràficament els resultats utilitzant la funció `plot_regression`. Tingues en compte que necessitem visualitzar les 4 sèries: _train_, _test_, predicció sobre _train_ i predicció sobre _test_.\n",
    "\n",
    "6.  Desfés la transformació aplicada per comprovar si el nou model resol el problema original. Per fer-ho, crea un nou conjunt de dades _original\\_preds\\_train_ i _original\\_preds\\_test_ a partir dels conjunts originals _preds\\_train_ i _preds\\_test_ desfent la transformació que hem aplicat al problema. És a dir: original[i] = original[i-1] + transformed[i]. Presta especial atenció al primer valor del conjunt de dades.\n",
    "\n",
    "7.  Representa gràficament els resultats utilitzant la funció `plot_regression`. Tingues en compte que necessitem visualitzar les 4 sèries: _train_, _test_, predicció sobre _train_ i predicció sobre _test_.\n",
    "\n",
    "Utilitza el mòdul `GridSearchCV` de `sklearn` per calcular els millors hiperparàmetres amb el classificador `KNeighborsRegressor` de `neighbors` de `sklearn`.\n",
    "\n",
    "</div>"
   ]
  },
  {
   "cell_type": "code",
   "execution_count": null,
   "metadata": {
    "id": "XqZuOlCcfrgU"
   },
   "outputs": [],
   "source": []
  },
  {
   "cell_type": "markdown",
   "metadata": {
    "id": "crlRsCoNfrgX"
   },
   "source": [
    "<div class=\"alert alert-block alert-info\">\n",
    "<strong>Anàlisi:</strong> Analitza visualment les prediccions transformades al problema original. El model Knn aconsegueix resoldre el problema original? Per què? Justifica la resposta basant-te en els conceptes teòrics apresos en aquest mòdul.\n",
    "</div>"
   ]
  },
  {
   "cell_type": "markdown",
   "metadata": {
    "id": "ltwrXu6mfrgY"
   },
   "source": [
    "<div class=\"alert alert-block alert-success\">\n",
    "<strong>Resposta:</strong>\n",
    "\n",
    "</div>"
   ]
  },
  {
   "cell_type": "markdown",
   "metadata": {
    "id": "ihZd7OIdd5nV"
   },
   "source": []
  },
  {
   "cell_type": "markdown",
   "metadata": {
    "id": "1N8TJl-1fHw_"
   },
   "source": [
    "<a id='ej3'></a>\n",
    "# 3. Implementació del cas pràctic (3 punts)\n",
    "\n",
    "El sector bancari ofereix un entorn fascinant per a l'aplicació de tècniques de ciència de dades a causa de la riquesa i diversitat de les seves dades transaccionals i demogràfiques. La predicció de si un titular de préstec complirà amb els seus pagaments no només és crucial per minimitzar riscos financers, sinó també per optimitzar estratègies d'atorgament de crèdits. Aquest problema combina elements de classificació, anàlisi predictiva i detecció de patrons en grans volums de dades. A més, la implementació de models precisos pot millorar la rendibilitat de les institucions financeres i promoure un accés més just al crèdit.\n",
    "\n",
    "Per a això, utilitzarem el conjunt de dades [bank\\_loan\\_data](https://www.kaggle.com/datasets/udaymalviya/bank-loan-data), el qual inclou dades sobre 45.000 sol·licituds de préstecs amb diversos atributs relacionats amb dades personals i els detalls del préstec. En concret, el dataset conté 14 característiques:\n",
    "\n",
    "-   person\\_age: Edat del sol·licitant.\n",
    "-   person\\_gender: Gènere del sol·licitant.\n",
    "-   person\\_education: Educació del sol·licitant (High School, Bachelor, Master, etc.).\n",
    "-   person\\_income: Ingressos anuals (en USD).\n",
    "-   person\\_emp\\_exp: Anys d'experiència laboral.\n",
    "-   person\\_home\\_ownership: Tipus de propietat de l'habitatge (RENT, OWN, MORTGAGE).\n",
    "-   loan\\_amnt: Quantitat del préstec sol·licitat (en USD).\n",
    "-   loan\\_intent: Propòsit del préstec (PERSONAL, EDUCATION, MEDICAL, etc.).\n",
    "-   loan\\_int\\_rate: Interès del préstec (percentatge).\n",
    "-   loan\\_percent\\_income: Proporció entre la quantitat del préstec i els ingressos.\n",
    "-   cb\\_person\\_cred\\_hist\\_length: Durada de l'historial creditici del sol·licitant.\n",
    "-   credit\\_score: Puntuació creditícia del sol·licitant.\n",
    "-   previous\\_loan\\_defaults\\_on\\_file: Indica si el sol·licitant té incompliments de préstecs previs (Yes or No).\n",
    "-   loan\\_status: variable objectiu, 1 si el préstec va ser pagat i 0 si el sol·licitant va incórrer en impagaments.\n",
    "\n",
    "L´objectiu d´aquesta secció és abordar l´anàlisi d´aquest conjunt de dades i entrenar arbres de decisió per predir si el préstec serà pagat pel sol·licitant o incórrerà en impagaments. Aquí tens alguns passos que podries seguir:\n",
    "\n",
    "1.  **Anàlisi Exploratòria de Dades (EDA)**: Comença explorant el conjunt de dades per comprendre la seva estructura i distribució. Analitza la proporció de cada classe. Observa la distribució de les diferents característiques i la seva relació amb la classe objectiu \"class\".\n",
    "\n",
    "2.  **Preprocessament de Dades**: Considera normalitzar les característiques perquè estiguin a la mateixa escala que les components principals.\n",
    "\n",
    "3.  **Modelització**: Utilitza un arbre de decisió com a eina de classificació. Atès que l'objectiu és identificar el nivell de servei del lliurament, és vital centrar-se en mètriques com la precisió, la sensibilitat (recall), el valor F1 i l'àrea sota la corba ROC (AUC-ROC).\n",
    "\n",
    "4.  **Avaluació**: Realitza una avaluació i anàlisi rigorosa del rendiment del teu model.\n",
    "\n",
    "Aquest enfocament integral us permetrà no només construir un model efectiu sinó també comprendre millor les característiques subjacents del tipus de préstec en el conjunt de dades."
   ]
  },
  {
   "cell_type": "markdown",
   "metadata": {
    "id": "SAn2GmJcfHw_"
   },
   "source": [
    "<a id='ej31'></a>\n",
    "## 3.1. Càrrega de dades\n",
    "\n",
    "El primer que has de fer és carregar el conjunt de dades i visualitzar informació rellevant del mateix. Tingues en compte que en aquest exercici només utilitzarem 20000 registres del dataset. Assegura't de verificar el següent:\n",
    "\n",
    "1.  Confirma la quantitat total de files i columnes en el DataFrame.\n",
    "2.  Revisa el nom de cada columna del DataFrame.\n",
    "3.  Verifica el nombre de valors no nuls en cada columna.\n",
    "4.  Identifica el tipus de dades de cada columna, que pot ser int, float, object, entre altres.\n",
    "5.  Comprova la quantitat de memòria utilitzada pel DataFrame.\n",
    "\n",
    "Aquests passos et proporcionaran una comprensió inicial clara i detallada del conjunt de dades amb el qual estàs treballant."
   ]
  },
  {
   "cell_type": "code",
   "execution_count": null,
   "metadata": {
    "id": "n-iy0scxeA6J"
   },
   "outputs": [],
   "source": []
  },
  {
   "cell_type": "markdown",
   "metadata": {
    "id": "nwJqa9WIfHw_"
   },
   "source": [
    "<a id='ej32'></a>\n",
    "## 3.2. Anàlisi Exploratòria de Dades (EDA) (1 punt)\n",
    "\n",
    "L'Anàlisi Exploratòria de Dades (EDA, per les seves sigles en anglès) en ciència de dades és un enfocament inicial per comprendre i resumir el contingut d'un conjunt de dades. Aquest procés implica diverses tècniques i passos:\n",
    "\n",
    "1.  **Inspecció de Dades**: Es comença per revisar les dades brutes per identificar-ne l'estructura, la mida i el tipus (com a numèric, categòric). Això inclou detectar valors faltants o inusuals.\n",
    "\n",
    "2.  **Resum Estadístic**: Es calculen estadístiques descriptives com la mitjana, la mediana, el rang, la variància i la desviació estàndard per obtenir una idea general de les tendències i els patrons en les dades.\n",
    "\n",
    "3.  **Visualització de Dades**: S'utilitzen gràfics i diagrames (com ara histogrames, gràfics de caixa, diagrames de dispersió) per visualitzar distribucions, relacions entre variables i possibles anomalies. Això ajuda a comprendre millor les dades i a identificar patrons o irregularitats.\n",
    "\n",
    "4.  **Anàlisi de Relacions i Correlacions**: S'exploren les relacions entre diferents variables per entendre com s'influencien entre si. Això pot implicar l'ús de matrius de correlació i gràfics de dispersió.\n",
    "\n",
    "5.  **Identificació de Patrons i Anomalies**: Es busquen patrons consistents o anomalies (com ara valors atípics) que puguin suggerir tendències o problemes en les dades.\n",
    "\n",
    "L'EDA és una fase crítica en qualsevol projecte de ciència de dades, ja que proporciona una comprensió profunda i una base sòlida per a posteriors anàlisis i modelatge."
   ]
  },
  {
   "cell_type": "markdown",
   "metadata": {
    "id": "pIX-1GizfHw_",
    "tags": []
   },
   "source": [
    "<div class=\"alert alert-block alert-info\">\n",
    "<strong>Implementació:</strong>\n",
    "\n",
    "1. Calcula les freqüències de la variable objectiu (`loan_status`) en el teu conjunt de dades.\n",
    "2. Crea un gràfic de barres per visualitzar aquestes freqüències. Això t'ajudarà a entendre la proporció dels préstecs rendibles per al banc en comparació amb els que incorren en impagaments.\n",
    "\n",
    "A continuació, analitza la distribució de les variables numèriques:\n",
    "\n",
    "1. Representa gràficament l'histograma de les variables, separant les observacions segons la classe a la qual pertanyen.\n",
    "2. Organitza tots els histogrames en un format de 4 files i 2 columnes. Això facilitarà la comparació visual de les distribucions per a cada classe en cada variable.\n",
    "\n",
    "Finalment, analitza la distribució de les variables categòriques de forma anàloga a les variables numèriques, organitzant tots els histogrames en un format de 3 files i 2 columnes.\n",
    "\n",
    "Aquests passos et permetran obtenir una visió més clara de l'estructura del teu conjunt de dades i com les diferents variables poden influir en la identificació dels impagaments.\n",
    "</div>"
   ]
  },
  {
   "cell_type": "code",
   "execution_count": null,
   "metadata": {
    "id": "mBJU0PIHfHw_"
   },
   "outputs": [],
   "source": []
  },
  {
   "cell_type": "markdown",
   "metadata": {
    "id": "7rDxe75IfHw_"
   },
   "source": [
    "<div class=\"alert alert-block alert-info\">\n",
    "<strong>Anàlisi:</strong>\n",
    "\n",
    "1. Avalua la relació de les freqüències de la variable `loan_status`. Reflexiona sobre com es distribueixen els préstecs rendibles i els que incorren en impagaments. És la distribució significativament desigual? Què implica això per a l'anàlisi i la modelització de les dades?\n",
    "2. Analitza la informació proporcionada pels histogrames de les variables descriptores. Observa si hi ha diferències notables en les distribucions d'aquestes variables entre les classes. Pregunta't: Hi ha variables que mostrin patrons distints per a l'estat del préstec?\n",
    "3. Considera si hi ha altres formes de visualització que podrien ser útils per entendre millor les dades. Per exemple, serien útils els diagrames de caixa (*boxplots*) per visualitzar la distribució de les variables en ambdues classes? Podria un mapa de calor de la matriu de correlació entre variables ajudar-te a entendre les relacions entre elles?\n",
    "\n",
    "Aquesta anàlisi t'ajudarà a obtenir una comprensió més profunda de la naturalesa de les teves dades i a identificar possibles característiques que podrien ser importants per detectar els préstecs rendibles.\n",
    "</div>"
   ]
  },
  {
   "cell_type": "markdown",
   "metadata": {
    "id": "oHW_jgcbfHw_",
    "tags": []
   },
   "source": [
    "<div class=\"alert alert-block alert-success\">\n",
    "<strong>Resposta:</strong>\n",
    "</div>"
   ]
  },
  {
   "cell_type": "markdown",
   "metadata": {
    "id": "7bji4bwAeEuy"
   },
   "source": []
  },
  {
   "cell_type": "markdown",
   "metadata": {
    "id": "Oa3HbpukfHw_"
   },
   "source": [
    "<a id='ej33'></a>\n",
    "## 3.3. Preprocessament de Dades (0.75 punts)\n",
    "\n",
    "El preprocessament de dades en ciència de dades és un pas crucial que involucra la preparació i transformació de dades brutes en un format adequat per a la seva posterior anàlisi i modelatge. Aquest procés inclou diverses tasques essencials:\n",
    "\n",
    "1.  **Neteja de Dades**: S'eliminen o es corregeixen dades errònies, incompletes, inexactes o irrellevants. Això pot incloure tractar amb valors faltants, corregir errors d'entrada i gestionar *outliers*.\n",
    "\n",
    "2.  **Normalització i Escalada**: Les dades es transformen perquè estiguin en una escala comuna, sense distorsionar diferències en els rangs de valors ni perdre informació. Per exemple, escalat min-max o estandardització.\n",
    "\n",
    "3.  **Codificació de Variables Categòriques**: Les variables categòriques (com ara gènere o país) es converteixen en formats numèrics perquè puguin ser processades per algoritmes d'aprenentatge automàtic, utilitzant tècniques com la codificació *one-hot* o la codificació d'etiquetes.\n",
    "\n",
    "4.  **Divisió de Dades**: Les dades es divideixen en conjunts d'entrenament, validació i prova, permetent entrenar models, afinar hiperparàmetres i avaluar el rendiment del model de manera efectiva.\n",
    "\n",
    "5.  **Gestió de Dades Desbalancejades**: En casos de conjunts de dades desbalancejats, s'apliquen tècniques com el sobremostreig o el submostreig per assegurar que el model no estigui biaixat cap a la classe més freqüent.\n",
    "\n",
    "6.  **Enginyeria de Característiques**: Es creen noves variables (característiques) a partir de les dades existents per millorar la capacitat del model per aprendre patrons i fer prediccions.\n",
    "\n",
    "El preprocessament és essencial per millorar la qualitat de les dades i fer-les més adequades i efectives per a l'anàlisi i el modelatge en projectes de ciència de dades."
   ]
  },
  {
   "cell_type": "markdown",
   "metadata": {
    "id": "a26OrTLBfrgk"
   },
   "source": [
    "<div class=\"alert alert-block alert-info\">\n",
    "<strong>Implementació:</strong> elimina els atributs categòrics del conjunt de dades i, en el seu lloc, introdueix la transformació d'aquests atributs a tantes variables binàries com categories tinguin. És important que les noves columnes generades siguin de tipus enter. Recorda que la codificació *one-hot* converteix les etiquetes categòriques en vectors binaris. En aquests vectors, el valor d'1 s'assigna a la posició corresponent a la classe i el valor de 0 a totes les altres posicions. Això facilita que els models d'aprenentatge automàtic processin i entenguin les etiquetes categòriques.\n",
    "<hr>\n",
    "Suggeriment: utilitzeu la funció \"get\\_dummies\" de \"pandas\".\n",
    "\n",
    "</div>"
   ]
  },
  {
   "cell_type": "code",
   "execution_count": null,
   "metadata": {
    "id": "a3G2qcYcfrgl"
   },
   "outputs": [],
   "source": []
  },
  {
   "cell_type": "markdown",
   "metadata": {
    "id": "Iu0SHBWbfHxA"
   },
   "source": [
    "<div class=\"alert alert-block alert-info\">\n",
    "<strong>Implementació:</strong>\n",
    "\n",
    "Ara realitzarem la divisió del conjunt de dades. Per fer-ho, segueix aquests passos:\n",
    "\n",
    "1. Separa els descriptors de la variable resposta. Assigna els descriptors al conjunt `X` i la variable resposta al conjunt `y`.\n",
    "2. Divideix el *dataset* en dos subconjunts: un per a entrenament (*train*) i un altre per a proves (*test*). Assigna el 80% de les dades al conjunt d'entrenament (`X_train`, `y_train`) i el 20% al conjunt de proves (`X_test`, `y_test`). Utilitza la funció `train_test_split` de la biblioteca `model_selection` de `sklearn`. Assegura't d'utilitzar `random_state = 24` i fes una divisió estratificada per mantenir la mateixa proporció de classes en ambdós conjunts.\n",
    "\n",
    "</div>"
   ]
  },
  {
   "cell_type": "code",
   "execution_count": null,
   "metadata": {
    "id": "Lj__HV48fHxA"
   },
   "outputs": [],
   "source": []
  },
  {
   "cell_type": "markdown",
   "metadata": {
    "id": "fKCW1Rh1fHxA"
   },
   "source": [
    "<div class=\"alert alert-block alert-info\">\n",
    "<strong>Implementació:</strong>\n",
    "\n",
    "1. Normalitza els descriptors utilitzant l'`StandardScaler` d'`sklearn`. Això estandarditzarà les característiques restant la mitjana i dividint per la desviació estàndard.\n",
    "2. Mostra les dimensions del conjunt de descriptors original, del conjunt d'entrenament i del conjunt de prova. Això et permetrà veure com s'han dividit les dades.\n",
    "\n",
    "<strong>Nota:</strong> Ajusta l'`StandardScaler` únicament amb els descriptors d'entrenament per evitar la fuga d'informació o '*data leakage*'. La fuga d'informació ocorre quan s'utilitza informació del conjunt de prova o validació en el procés d'ajust del model. És a dir, si ajustes el model d'escalat amb tot el conjunt de dades, estaries utilitzant informació del conjunt de prova o validació en l'ajust, la qual cosa podria donar la impressió que el model és més precís del que realment és. Per tant, assegura't d'ajustar l'`StandardScaler` només amb les dades d'entrenament i després aplicar-lo als conjunts d'entrenament i prova.\n",
    "</div>"
   ]
  },
  {
   "cell_type": "code",
   "execution_count": null,
   "metadata": {
    "id": "vrgdxoZZfHxA"
   },
   "outputs": [],
   "source": []
  },
  {
   "cell_type": "markdown",
   "metadata": {
    "id": "Cpg-RIGpfHxA"
   },
   "source": [
    "<a id='ej34'></a>\n",
    "## 3.4. Modelització (1.25 punts)\n",
    "\n",
    "La modelització és una fase crucial en què hem de prendre moltes decisions i ser molt rigorosos amb la metodologia. Diversos dels punts clau en aquesta fase són els següents:\n",
    "\n",
    "-   **Selecció i configuració del model**: Triar l'algoritme de classificació més adequat segons el problema, les dades i els objectius (per exemple, SVM, arbres de decisió, etc.), definint també els criteris d'avaluació.\n",
    "\n",
    "-   **Entrenament i ajust d'hiperparàmetres**: Entrenar el model amb les dades disponibles i realitzar una cerca d'hiperparàmetres (*grid search*, *random search* o tècniques bayesianes).\n",
    "\n",
    "-   **Avaluació i validació del model**: Mesurar el rendiment del model amb mètriques adequades (precisió, *recall*, *F1-score*, AUC, etc.) i validar el seu comportament amb tècniques com la validació creuada.\n",
    "\n",
    "-   **Explicabilitat del model**: Analitzar i interpretar com i per què el model pren decisions, utilitzant eines com coeficients, SHAP, LIME o visualització de vectors de suport, per assegurar transparència i confiança en l'ús del model."
   ]
  },
  {
   "cell_type": "markdown",
   "metadata": {
    "id": "SsMGXeDEfHxA"
   },
   "source": [
    "<div class=\"alert alert-block alert-info\">\n",
    "    <strong>Implementació:</strong> Aquest exercici l'abordarem utilitzant un model d'arbre de decisió. Per fer-ho:\n",
    "\n",
    "1. Defineix un classificador `DecisionTreeClassifier` de la biblioteca `tree` d'`sklearn` sense especificar cap paràmetre i calcula la seva precisió sobre el conjunt d'entrenament aplicant validació creuada amb 5 conjunts.\n",
    "2. Entrena un nou model sobre el conjunt de dades d'entrenament.\n",
    "3. Calcula les mètriques següents tant en les dades d'entrenament (*train*) com de prova (*test*):\n",
    "    - Calcula l'exactitud (*accuracy*) per mesurar la correcció de les prediccions.\n",
    "    - Calcula el valor F1, que és una mesura que combina precisió i sensibilitat.\n",
    "4. Calcula la matriu de confusió utilitzant les dades de prova (*test*).\n",
    "\n",
    "Utiliza el módulo `cross_val_score` de `sklearn` para aplicar la validación cruzada con el clasificador DecisionTree (de `DecisionTreeClassifier` de `sklearn`).\n",
    "\n",
    "</div>"
   ]
  },
  {
   "cell_type": "code",
   "execution_count": null,
   "metadata": {
    "id": "27hz7RN_fHxA"
   },
   "outputs": [],
   "source": []
  },
  {
   "cell_type": "markdown",
   "metadata": {
    "id": "YB4IGsVwfriI"
   },
   "source": [
    "<div class=\"alert alert-block alert-info\">\n",
    "<strong>Anàlisi:</strong>\n",
    "\n",
    "1. Realitza una anàlisi dels resultats i decideix si consideres que aquest model és acceptable.\n",
    "2. Avalua quina de les mesures de rendiment utilitzades és la més apropiada.\n",
    "3. Examina la distribució de les classes i planteja una estratègia, si és necessari, per assegurar la fiabilitat de l'estudi realitzat.\n",
    "</div>"
   ]
  },
  {
   "cell_type": "markdown",
   "metadata": {
    "id": "QxzfI0H2friJ"
   },
   "source": [
    "<div class=\"alert alert-block alert-success\">\n",
    "<strong>Resposta:</strong>\n",
    "</div>"
   ]
  },
  {
   "cell_type": "markdown",
   "metadata": {
    "id": "gsIt59jAeVxr"
   },
   "source": []
  },
  {
   "cell_type": "code",
   "execution_count": null,
   "metadata": {
    "id": "PZvFGvsGfriQ"
   },
   "outputs": [],
   "source": []
  },
  {
   "cell_type": "markdown",
   "metadata": {
    "id": "mGVnHTwyfriR"
   },
   "source": [
    "<div class=\"alert alert-block alert-info\">\n",
    "    <strong>Implementació:</strong> Repeteix el procediment anterior considerant l'estratègia que consideris necessària per millorar la fiabilitat del model.\n",
    "</div>"
   ]
  },
  {
   "cell_type": "code",
   "execution_count": null,
   "metadata": {
    "id": "RGK7qyavfriR"
   },
   "outputs": [],
   "source": []
  },
  {
   "cell_type": "code",
   "execution_count": null,
   "metadata": {
    "id": "zSwQ8MusfriS"
   },
   "outputs": [],
   "source": []
  },
  {
   "cell_type": "markdown",
   "metadata": {
    "id": "fq16UV9_friS"
   },
   "source": [
    "<div class=\"alert alert-block alert-info\">\n",
    "    <strong>Implementació:</strong> Els arbres de decisió ens permeten calcular la contribució relativa de cada atribut descriptiu al rendiment predictiu del model. Per fer-ho,\n",
    "\n",
    "1. Calcula la contribució relativa de cada atribut utilitzant l'atribut `feature_importances_`.\n",
    "2. Crea un DataFrame que contingui dues columnes: el nom de l'atribut descriptiu i la seva contribució.\n",
    "3. Ordena les files pel valor de contribució.\n",
    "4. Mostra el DataFrame resultant.\n",
    "\n",
    "</div>"
   ]
  },
  {
   "cell_type": "code",
   "execution_count": null,
   "metadata": {
    "id": "MuKYCmvjfrjp"
   },
   "outputs": [],
   "source": []
  },
  {
   "cell_type": "markdown",
   "metadata": {
    "id": "gRnrNUFvfrjp"
   },
   "source": [
    "<div class=\"alert alert-block alert-danger\">\n",
    "<strong>Solució:</strong>\n",
    "</div>"
   ]
  },
  {
   "cell_type": "code",
   "execution_count": null,
   "metadata": {
    "id": "9XRphCvHfrjq"
   },
   "outputs": [],
   "source": []
  },
  {
   "cell_type": "markdown",
   "metadata": {
    "id": "BcM1eIdvfrjq"
   },
   "source": [
    "<div class=\"alert alert-block alert-info\">\n",
    "<strong>Anàlisi:</strong>\n",
    "\n",
    "Relaciona la interpretació de la contribució dels atributs descriptius amb l'anàlisi exploratòria de les dades realitzada a l'exercici 3.2.\n",
    "</div>"
   ]
  },
  {
   "cell_type": "markdown",
   "metadata": {
    "id": "OqbvO3YBfrjq"
   },
   "source": [
    "<div class=\"alert alert-block alert-success\">\n",
    "<strong>Resposta:</strong>\n",
    "</div>"
   ]
  },
  {
   "cell_type": "markdown",
   "metadata": {
    "id": "2DK7DocrefpB"
   },
   "source": []
  }
 ],
 "metadata": {
  "colab": {
   "provenance": []
  },
  "kernelspec": {
   "display_name": "Python 3 (ipykernel)",
   "language": "python",
   "name": "python3"
  },
  "language_info": {
   "codemirror_mode": {
    "name": "ipython",
    "version": 3
   },
   "file_extension": ".py",
   "mimetype": "text/x-python",
   "name": "python",
   "nbconvert_exporter": "python",
   "pygments_lexer": "ipython3",
   "version": "3.11.10"
  },
  "nbTranslate": {
   "displayLangs": [
    "*"
   ],
   "hotkey": "alt-t",
   "langInMainMenu": true,
   "sourceLang": "en",
   "targetLang": "fr",
   "useGoogleTranslate": true
  }
 },
 "nbformat": 4,
 "nbformat_minor": 4
}
